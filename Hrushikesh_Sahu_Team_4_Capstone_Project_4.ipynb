{
  "nbformat": 4,
  "nbformat_minor": 0,
  "metadata": {
    "kernelspec": {
      "display_name": "Python 3",
      "language": "python",
      "name": "python3"
    },
    "language_info": {
      "codemirror_mode": {
        "name": "ipython",
        "version": 3
      },
      "file_extension": ".py",
      "mimetype": "text/x-python",
      "name": "python",
      "nbconvert_exporter": "python",
      "pygments_lexer": "ipython3",
      "version": "3.6.6"
    },
    "colab": {
      "name": "Hrushikesh Sahu-Team 4 - Capstone Project 4.ipynb",
      "provenance": [],
      "collapsed_sections": [],
      "include_colab_link": true
    }
  },
  "cells": [
    {
      "cell_type": "markdown",
      "metadata": {
        "id": "view-in-github",
        "colab_type": "text"
      },
      "source": [
        "<a href=\"https://colab.research.google.com/github/hrushikeshsahu19/Online-Retail-Customer-Segmentation/blob/main/Hrushikesh_Sahu_Team_4_Capstone_Project_4.ipynb\" target=\"_parent\"><img src=\"https://colab.research.google.com/assets/colab-badge.svg\" alt=\"Open In Colab\"/></a>"
      ]
    },
    {
      "cell_type": "markdown",
      "metadata": {
        "id": "tOGC-qoyhJeX"
      },
      "source": [
        "# <b><u> Project Title : Online Retail Customer Segmentation. </u></b>"
      ]
    },
    {
      "cell_type": "markdown",
      "metadata": {
        "id": "Y06xIdG26kRF"
      },
      "source": [
        "## <b> Problem Description </b>\n",
        "\n",
        "### In this project, your task is to identify major customer segments on a transnational data set which contains all the transactions occurring between 01/12/2010 and 09/12/2011 for a UK-based and registered non-store online retail.The company mainly sells unique all-occasion gifts. Many customers of the company are wholesalers."
      ]
    },
    {
      "cell_type": "markdown",
      "metadata": {
        "id": "AlLxAtlziMbP"
      },
      "source": [
        "## <b> Data Description </b>\r\n",
        "\r\n",
        "### <b>Attribute Information: </b>\r\n",
        "\r\n",
        "* ### InvoiceNo: Invoice number. Nominal, a 6-digit integral number uniquely assigned to each transaction. If this code starts with letter 'c', it indicates a cancellation.\r\n",
        "* ### StockCode: Product (item) code. Nominal, a 5-digit integral number uniquely assigned to each distinct product.\r\n",
        "* ### Description: Product (item) name. Nominal.\r\n",
        "* ### Quantity: The quantities of each product (item) per transaction. Numeric.\r\n",
        "* ### InvoiceDate: Invice Date and time. Numeric, the day and time when each transaction was generated.\r\n",
        "* ### UnitPrice: Unit price. Numeric, Product price per unit in sterling.\r\n",
        "* ### CustomerID: Customer number. Nominal, a 5-digit integral number uniquely assigned to each customer.\r\n",
        "* ### Country: Country name. Nominal, the name of the country where each customer resides."
      ]
    },
    {
      "cell_type": "code",
      "metadata": {
        "id": "hu3fv_-JN_SN"
      },
      "source": [
        "# Importing the libraries\r\n",
        "import numpy as np\r\n",
        "import pandas as pd\r\n",
        "from numpy import math\r\n",
        "import xgboost\r\n",
        "from sklearn.preprocessing import MinMaxScaler\r\n",
        "from sklearn.preprocessing import MinMaxScaler\r\n",
        "from sklearn.model_selection import train_test_split\r\n",
        "from sklearn.linear_model import LinearRegression\r\n",
        "from sklearn.metrics import r2_score\r\n",
        "from sklearn.metrics import mean_squared_error\r\n",
        "from sklearn.linear_model import Lasso\r\n",
        "from sklearn.linear_model import Ridge\r\n",
        "import seaborn as sns\r\n",
        "from datetime import datetime\r\n",
        "import warnings\r\n",
        "warnings.filterwarnings(\"ignore\")\r\n",
        "import warnings\r\n",
        "from pylab import rcParams\r\n",
        "%matplotlib inline\r\n",
        "from sklearn.decomposition import PCA\r\n",
        "import matplotlib.pyplot as plt\r\n",
        "import seaborn as sns; sns.set()\r\n",
        "warnings.filterwarnings('ignore')"
      ],
      "execution_count": 22,
      "outputs": []
    },
    {
      "cell_type": "code",
      "metadata": {
        "id": "dByMsuzT8Tnw",
        "colab": {
          "base_uri": "https://localhost:8080/"
        },
        "outputId": "fde412fa-6455-4c24-9a6b-86edc9b3a5fb"
      },
      "source": [
        "from google.colab import drive\r\n",
        "drive.mount('/content/drive')"
      ],
      "execution_count": 2,
      "outputs": [
        {
          "output_type": "stream",
          "text": [
            "Mounted at /content/drive\n"
          ],
          "name": "stdout"
        }
      ]
    },
    {
      "cell_type": "code",
      "metadata": {
        "id": "W-6_aefkN_Vu"
      },
      "source": [
        "df=pd.read_excel('/content/drive/MyDrive/AlmaBetter/Cohort Aravali/Module 4/Week 4/Online Retail.xlsx')"
      ],
      "execution_count": 3,
      "outputs": []
    },
    {
      "cell_type": "code",
      "metadata": {
        "colab": {
          "base_uri": "https://localhost:8080/",
          "height": 195
        },
        "id": "oNOTEVNDN_ZL",
        "outputId": "93de46f7-cd8e-482a-91b8-eb059a77029c"
      },
      "source": [
        "df.head()"
      ],
      "execution_count": 4,
      "outputs": [
        {
          "output_type": "execute_result",
          "data": {
            "text/html": [
              "<div>\n",
              "<style scoped>\n",
              "    .dataframe tbody tr th:only-of-type {\n",
              "        vertical-align: middle;\n",
              "    }\n",
              "\n",
              "    .dataframe tbody tr th {\n",
              "        vertical-align: top;\n",
              "    }\n",
              "\n",
              "    .dataframe thead th {\n",
              "        text-align: right;\n",
              "    }\n",
              "</style>\n",
              "<table border=\"1\" class=\"dataframe\">\n",
              "  <thead>\n",
              "    <tr style=\"text-align: right;\">\n",
              "      <th></th>\n",
              "      <th>InvoiceNo</th>\n",
              "      <th>StockCode</th>\n",
              "      <th>Description</th>\n",
              "      <th>Quantity</th>\n",
              "      <th>InvoiceDate</th>\n",
              "      <th>UnitPrice</th>\n",
              "      <th>CustomerID</th>\n",
              "      <th>Country</th>\n",
              "    </tr>\n",
              "  </thead>\n",
              "  <tbody>\n",
              "    <tr>\n",
              "      <th>0</th>\n",
              "      <td>536365</td>\n",
              "      <td>85123A</td>\n",
              "      <td>WHITE HANGING HEART T-LIGHT HOLDER</td>\n",
              "      <td>6</td>\n",
              "      <td>2010-12-01 08:26:00</td>\n",
              "      <td>2.55</td>\n",
              "      <td>17850.0</td>\n",
              "      <td>United Kingdom</td>\n",
              "    </tr>\n",
              "    <tr>\n",
              "      <th>1</th>\n",
              "      <td>536365</td>\n",
              "      <td>71053</td>\n",
              "      <td>WHITE METAL LANTERN</td>\n",
              "      <td>6</td>\n",
              "      <td>2010-12-01 08:26:00</td>\n",
              "      <td>3.39</td>\n",
              "      <td>17850.0</td>\n",
              "      <td>United Kingdom</td>\n",
              "    </tr>\n",
              "    <tr>\n",
              "      <th>2</th>\n",
              "      <td>536365</td>\n",
              "      <td>84406B</td>\n",
              "      <td>CREAM CUPID HEARTS COAT HANGER</td>\n",
              "      <td>8</td>\n",
              "      <td>2010-12-01 08:26:00</td>\n",
              "      <td>2.75</td>\n",
              "      <td>17850.0</td>\n",
              "      <td>United Kingdom</td>\n",
              "    </tr>\n",
              "    <tr>\n",
              "      <th>3</th>\n",
              "      <td>536365</td>\n",
              "      <td>84029G</td>\n",
              "      <td>KNITTED UNION FLAG HOT WATER BOTTLE</td>\n",
              "      <td>6</td>\n",
              "      <td>2010-12-01 08:26:00</td>\n",
              "      <td>3.39</td>\n",
              "      <td>17850.0</td>\n",
              "      <td>United Kingdom</td>\n",
              "    </tr>\n",
              "    <tr>\n",
              "      <th>4</th>\n",
              "      <td>536365</td>\n",
              "      <td>84029E</td>\n",
              "      <td>RED WOOLLY HOTTIE WHITE HEART.</td>\n",
              "      <td>6</td>\n",
              "      <td>2010-12-01 08:26:00</td>\n",
              "      <td>3.39</td>\n",
              "      <td>17850.0</td>\n",
              "      <td>United Kingdom</td>\n",
              "    </tr>\n",
              "  </tbody>\n",
              "</table>\n",
              "</div>"
            ],
            "text/plain": [
              "  InvoiceNo StockCode  ... CustomerID         Country\n",
              "0    536365    85123A  ...    17850.0  United Kingdom\n",
              "1    536365     71053  ...    17850.0  United Kingdom\n",
              "2    536365    84406B  ...    17850.0  United Kingdom\n",
              "3    536365    84029G  ...    17850.0  United Kingdom\n",
              "4    536365    84029E  ...    17850.0  United Kingdom\n",
              "\n",
              "[5 rows x 8 columns]"
            ]
          },
          "metadata": {
            "tags": []
          },
          "execution_count": 4
        }
      ]
    },
    {
      "cell_type": "code",
      "metadata": {
        "colab": {
          "base_uri": "https://localhost:8080/",
          "height": 195
        },
        "id": "hkvNlI86N_cO",
        "outputId": "d6a5d7e1-7cfb-469d-c3be-1f77f9e9f993"
      },
      "source": [
        "df.tail()"
      ],
      "execution_count": 5,
      "outputs": [
        {
          "output_type": "execute_result",
          "data": {
            "text/html": [
              "<div>\n",
              "<style scoped>\n",
              "    .dataframe tbody tr th:only-of-type {\n",
              "        vertical-align: middle;\n",
              "    }\n",
              "\n",
              "    .dataframe tbody tr th {\n",
              "        vertical-align: top;\n",
              "    }\n",
              "\n",
              "    .dataframe thead th {\n",
              "        text-align: right;\n",
              "    }\n",
              "</style>\n",
              "<table border=\"1\" class=\"dataframe\">\n",
              "  <thead>\n",
              "    <tr style=\"text-align: right;\">\n",
              "      <th></th>\n",
              "      <th>InvoiceNo</th>\n",
              "      <th>StockCode</th>\n",
              "      <th>Description</th>\n",
              "      <th>Quantity</th>\n",
              "      <th>InvoiceDate</th>\n",
              "      <th>UnitPrice</th>\n",
              "      <th>CustomerID</th>\n",
              "      <th>Country</th>\n",
              "    </tr>\n",
              "  </thead>\n",
              "  <tbody>\n",
              "    <tr>\n",
              "      <th>541904</th>\n",
              "      <td>581587</td>\n",
              "      <td>22613</td>\n",
              "      <td>PACK OF 20 SPACEBOY NAPKINS</td>\n",
              "      <td>12</td>\n",
              "      <td>2011-12-09 12:50:00</td>\n",
              "      <td>0.85</td>\n",
              "      <td>12680.0</td>\n",
              "      <td>France</td>\n",
              "    </tr>\n",
              "    <tr>\n",
              "      <th>541905</th>\n",
              "      <td>581587</td>\n",
              "      <td>22899</td>\n",
              "      <td>CHILDREN'S APRON DOLLY GIRL</td>\n",
              "      <td>6</td>\n",
              "      <td>2011-12-09 12:50:00</td>\n",
              "      <td>2.10</td>\n",
              "      <td>12680.0</td>\n",
              "      <td>France</td>\n",
              "    </tr>\n",
              "    <tr>\n",
              "      <th>541906</th>\n",
              "      <td>581587</td>\n",
              "      <td>23254</td>\n",
              "      <td>CHILDRENS CUTLERY DOLLY GIRL</td>\n",
              "      <td>4</td>\n",
              "      <td>2011-12-09 12:50:00</td>\n",
              "      <td>4.15</td>\n",
              "      <td>12680.0</td>\n",
              "      <td>France</td>\n",
              "    </tr>\n",
              "    <tr>\n",
              "      <th>541907</th>\n",
              "      <td>581587</td>\n",
              "      <td>23255</td>\n",
              "      <td>CHILDRENS CUTLERY CIRCUS PARADE</td>\n",
              "      <td>4</td>\n",
              "      <td>2011-12-09 12:50:00</td>\n",
              "      <td>4.15</td>\n",
              "      <td>12680.0</td>\n",
              "      <td>France</td>\n",
              "    </tr>\n",
              "    <tr>\n",
              "      <th>541908</th>\n",
              "      <td>581587</td>\n",
              "      <td>22138</td>\n",
              "      <td>BAKING SET 9 PIECE RETROSPOT</td>\n",
              "      <td>3</td>\n",
              "      <td>2011-12-09 12:50:00</td>\n",
              "      <td>4.95</td>\n",
              "      <td>12680.0</td>\n",
              "      <td>France</td>\n",
              "    </tr>\n",
              "  </tbody>\n",
              "</table>\n",
              "</div>"
            ],
            "text/plain": [
              "       InvoiceNo StockCode  ... CustomerID  Country\n",
              "541904    581587     22613  ...    12680.0   France\n",
              "541905    581587     22899  ...    12680.0   France\n",
              "541906    581587     23254  ...    12680.0   France\n",
              "541907    581587     23255  ...    12680.0   France\n",
              "541908    581587     22138  ...    12680.0   France\n",
              "\n",
              "[5 rows x 8 columns]"
            ]
          },
          "metadata": {
            "tags": []
          },
          "execution_count": 5
        }
      ]
    },
    {
      "cell_type": "code",
      "metadata": {
        "colab": {
          "base_uri": "https://localhost:8080/"
        },
        "id": "WKu1_UroxxhS",
        "outputId": "a0454115-1b44-4c04-93f6-b28e5917c170"
      },
      "source": [
        "df.shape"
      ],
      "execution_count": 6,
      "outputs": [
        {
          "output_type": "execute_result",
          "data": {
            "text/plain": [
              "(541909, 8)"
            ]
          },
          "metadata": {
            "tags": []
          },
          "execution_count": 6
        }
      ]
    },
    {
      "cell_type": "code",
      "metadata": {
        "colab": {
          "base_uri": "https://localhost:8080/"
        },
        "id": "KwPXfnjYN_fo",
        "outputId": "c5bdd461-581e-4bf7-a1fe-c49da1991313"
      },
      "source": [
        "df.info()"
      ],
      "execution_count": 7,
      "outputs": [
        {
          "output_type": "stream",
          "text": [
            "<class 'pandas.core.frame.DataFrame'>\n",
            "RangeIndex: 541909 entries, 0 to 541908\n",
            "Data columns (total 8 columns):\n",
            " #   Column       Non-Null Count   Dtype         \n",
            "---  ------       --------------   -----         \n",
            " 0   InvoiceNo    541909 non-null  object        \n",
            " 1   StockCode    541909 non-null  object        \n",
            " 2   Description  540455 non-null  object        \n",
            " 3   Quantity     541909 non-null  int64         \n",
            " 4   InvoiceDate  541909 non-null  datetime64[ns]\n",
            " 5   UnitPrice    541909 non-null  float64       \n",
            " 6   CustomerID   406829 non-null  float64       \n",
            " 7   Country      541909 non-null  object        \n",
            "dtypes: datetime64[ns](1), float64(2), int64(1), object(4)\n",
            "memory usage: 33.1+ MB\n"
          ],
          "name": "stdout"
        }
      ]
    },
    {
      "cell_type": "code",
      "metadata": {
        "id": "4Y9olX-Nxu3e"
      },
      "source": [
        "df.dropna(inplace=True)"
      ],
      "execution_count": 8,
      "outputs": []
    },
    {
      "cell_type": "code",
      "metadata": {
        "colab": {
          "base_uri": "https://localhost:8080/"
        },
        "id": "TzK0CfJQyDCl",
        "outputId": "411813c4-883c-4ee2-f4c7-6ea772bb48d1"
      },
      "source": [
        "df.info()"
      ],
      "execution_count": 9,
      "outputs": [
        {
          "output_type": "stream",
          "text": [
            "<class 'pandas.core.frame.DataFrame'>\n",
            "Int64Index: 406829 entries, 0 to 541908\n",
            "Data columns (total 8 columns):\n",
            " #   Column       Non-Null Count   Dtype         \n",
            "---  ------       --------------   -----         \n",
            " 0   InvoiceNo    406829 non-null  object        \n",
            " 1   StockCode    406829 non-null  object        \n",
            " 2   Description  406829 non-null  object        \n",
            " 3   Quantity     406829 non-null  int64         \n",
            " 4   InvoiceDate  406829 non-null  datetime64[ns]\n",
            " 5   UnitPrice    406829 non-null  float64       \n",
            " 6   CustomerID   406829 non-null  float64       \n",
            " 7   Country      406829 non-null  object        \n",
            "dtypes: datetime64[ns](1), float64(2), int64(1), object(4)\n",
            "memory usage: 27.9+ MB\n"
          ],
          "name": "stdout"
        }
      ]
    },
    {
      "cell_type": "code",
      "metadata": {
        "colab": {
          "base_uri": "https://localhost:8080/"
        },
        "id": "puyvEPi-yGaJ",
        "outputId": "ec3638a4-537c-4bba-8930-e45c82c5b3f0"
      },
      "source": [
        "df.shape"
      ],
      "execution_count": 10,
      "outputs": [
        {
          "output_type": "execute_result",
          "data": {
            "text/plain": [
              "(406829, 8)"
            ]
          },
          "metadata": {
            "tags": []
          },
          "execution_count": 10
        }
      ]
    },
    {
      "cell_type": "code",
      "metadata": {
        "id": "QdmqmIymqH3V"
      },
      "source": [
        "df['InvoiceNo'] = df['InvoiceNo'].astype('str')"
      ],
      "execution_count": 11,
      "outputs": []
    },
    {
      "cell_type": "code",
      "metadata": {
        "id": "EtVGYweboV0y"
      },
      "source": [
        "df=df[~df['InvoiceNo'].str.contains('C')]"
      ],
      "execution_count": 12,
      "outputs": []
    },
    {
      "cell_type": "code",
      "metadata": {
        "colab": {
          "base_uri": "https://localhost:8080/"
        },
        "id": "yCMcR82ryO88",
        "outputId": "66b1b21c-d0eb-4e20-8421-cc0f12e7fc76"
      },
      "source": [
        "df.shape"
      ],
      "execution_count": 13,
      "outputs": [
        {
          "output_type": "execute_result",
          "data": {
            "text/plain": [
              "(397924, 8)"
            ]
          },
          "metadata": {
            "tags": []
          },
          "execution_count": 13
        }
      ]
    },
    {
      "cell_type": "code",
      "metadata": {
        "colab": {
          "base_uri": "https://localhost:8080/",
          "height": 284
        },
        "id": "vBvDw1wrN_jC",
        "outputId": "7a976761-93b9-4680-c381-256b20e7045b"
      },
      "source": [
        "df.describe()"
      ],
      "execution_count": 14,
      "outputs": [
        {
          "output_type": "execute_result",
          "data": {
            "text/html": [
              "<div>\n",
              "<style scoped>\n",
              "    .dataframe tbody tr th:only-of-type {\n",
              "        vertical-align: middle;\n",
              "    }\n",
              "\n",
              "    .dataframe tbody tr th {\n",
              "        vertical-align: top;\n",
              "    }\n",
              "\n",
              "    .dataframe thead th {\n",
              "        text-align: right;\n",
              "    }\n",
              "</style>\n",
              "<table border=\"1\" class=\"dataframe\">\n",
              "  <thead>\n",
              "    <tr style=\"text-align: right;\">\n",
              "      <th></th>\n",
              "      <th>Quantity</th>\n",
              "      <th>UnitPrice</th>\n",
              "      <th>CustomerID</th>\n",
              "    </tr>\n",
              "  </thead>\n",
              "  <tbody>\n",
              "    <tr>\n",
              "      <th>count</th>\n",
              "      <td>397924.000000</td>\n",
              "      <td>397924.000000</td>\n",
              "      <td>397924.000000</td>\n",
              "    </tr>\n",
              "    <tr>\n",
              "      <th>mean</th>\n",
              "      <td>13.021823</td>\n",
              "      <td>3.116174</td>\n",
              "      <td>15294.315171</td>\n",
              "    </tr>\n",
              "    <tr>\n",
              "      <th>std</th>\n",
              "      <td>180.420210</td>\n",
              "      <td>22.096788</td>\n",
              "      <td>1713.169877</td>\n",
              "    </tr>\n",
              "    <tr>\n",
              "      <th>min</th>\n",
              "      <td>1.000000</td>\n",
              "      <td>0.000000</td>\n",
              "      <td>12346.000000</td>\n",
              "    </tr>\n",
              "    <tr>\n",
              "      <th>25%</th>\n",
              "      <td>2.000000</td>\n",
              "      <td>1.250000</td>\n",
              "      <td>13969.000000</td>\n",
              "    </tr>\n",
              "    <tr>\n",
              "      <th>50%</th>\n",
              "      <td>6.000000</td>\n",
              "      <td>1.950000</td>\n",
              "      <td>15159.000000</td>\n",
              "    </tr>\n",
              "    <tr>\n",
              "      <th>75%</th>\n",
              "      <td>12.000000</td>\n",
              "      <td>3.750000</td>\n",
              "      <td>16795.000000</td>\n",
              "    </tr>\n",
              "    <tr>\n",
              "      <th>max</th>\n",
              "      <td>80995.000000</td>\n",
              "      <td>8142.750000</td>\n",
              "      <td>18287.000000</td>\n",
              "    </tr>\n",
              "  </tbody>\n",
              "</table>\n",
              "</div>"
            ],
            "text/plain": [
              "            Quantity      UnitPrice     CustomerID\n",
              "count  397924.000000  397924.000000  397924.000000\n",
              "mean       13.021823       3.116174   15294.315171\n",
              "std       180.420210      22.096788    1713.169877\n",
              "min         1.000000       0.000000   12346.000000\n",
              "25%         2.000000       1.250000   13969.000000\n",
              "50%         6.000000       1.950000   15159.000000\n",
              "75%        12.000000       3.750000   16795.000000\n",
              "max     80995.000000    8142.750000   18287.000000"
            ]
          },
          "metadata": {
            "tags": []
          },
          "execution_count": 14
        }
      ]
    },
    {
      "cell_type": "code",
      "metadata": {
        "colab": {
          "base_uri": "https://localhost:8080/"
        },
        "id": "BvNAm3uRPRIA",
        "outputId": "ef572f3d-4593-40ee-ade9-f35101058990"
      },
      "source": [
        "df.shape"
      ],
      "execution_count": 15,
      "outputs": [
        {
          "output_type": "execute_result",
          "data": {
            "text/plain": [
              "(397924, 8)"
            ]
          },
          "metadata": {
            "tags": []
          },
          "execution_count": 15
        }
      ]
    },
    {
      "cell_type": "code",
      "metadata": {
        "colab": {
          "base_uri": "https://localhost:8080/"
        },
        "id": "5HbsqJ7tPTzw",
        "outputId": "1a5594f2-7ff9-4d20-e548-01c58f9bd380"
      },
      "source": [
        "df.columns"
      ],
      "execution_count": 16,
      "outputs": [
        {
          "output_type": "execute_result",
          "data": {
            "text/plain": [
              "Index(['InvoiceNo', 'StockCode', 'Description', 'Quantity', 'InvoiceDate',\n",
              "       'UnitPrice', 'CustomerID', 'Country'],\n",
              "      dtype='object')"
            ]
          },
          "metadata": {
            "tags": []
          },
          "execution_count": 16
        }
      ]
    },
    {
      "cell_type": "markdown",
      "metadata": {
        "id": "ac2YsQgQmL_L"
      },
      "source": [
        "#**Exploratory data analysis**"
      ]
    },
    {
      "cell_type": "code",
      "metadata": {
        "colab": {
          "base_uri": "https://localhost:8080/",
          "height": 195
        },
        "id": "keX13LNHPWa2",
        "outputId": "b1f0cbef-8056-410e-dd6b-c580bc780a10"
      },
      "source": [
        "country_df=df['Country'].value_counts().reset_index()\r\n",
        "country_df.rename(columns={'index': 'Country_Name'}, inplace=True)\r\n",
        "country_df.rename(columns={'Country': 'Count'}, inplace=True)\r\n",
        "country_df.head()"
      ],
      "execution_count": 17,
      "outputs": [
        {
          "output_type": "execute_result",
          "data": {
            "text/html": [
              "<div>\n",
              "<style scoped>\n",
              "    .dataframe tbody tr th:only-of-type {\n",
              "        vertical-align: middle;\n",
              "    }\n",
              "\n",
              "    .dataframe tbody tr th {\n",
              "        vertical-align: top;\n",
              "    }\n",
              "\n",
              "    .dataframe thead th {\n",
              "        text-align: right;\n",
              "    }\n",
              "</style>\n",
              "<table border=\"1\" class=\"dataframe\">\n",
              "  <thead>\n",
              "    <tr style=\"text-align: right;\">\n",
              "      <th></th>\n",
              "      <th>Country_Name</th>\n",
              "      <th>Count</th>\n",
              "    </tr>\n",
              "  </thead>\n",
              "  <tbody>\n",
              "    <tr>\n",
              "      <th>0</th>\n",
              "      <td>United Kingdom</td>\n",
              "      <td>354345</td>\n",
              "    </tr>\n",
              "    <tr>\n",
              "      <th>1</th>\n",
              "      <td>Germany</td>\n",
              "      <td>9042</td>\n",
              "    </tr>\n",
              "    <tr>\n",
              "      <th>2</th>\n",
              "      <td>France</td>\n",
              "      <td>8342</td>\n",
              "    </tr>\n",
              "    <tr>\n",
              "      <th>3</th>\n",
              "      <td>EIRE</td>\n",
              "      <td>7238</td>\n",
              "    </tr>\n",
              "    <tr>\n",
              "      <th>4</th>\n",
              "      <td>Spain</td>\n",
              "      <td>2485</td>\n",
              "    </tr>\n",
              "  </tbody>\n",
              "</table>\n",
              "</div>"
            ],
            "text/plain": [
              "     Country_Name   Count\n",
              "0  United Kingdom  354345\n",
              "1         Germany    9042\n",
              "2          France    8342\n",
              "3            EIRE    7238\n",
              "4           Spain    2485"
            ]
          },
          "metadata": {
            "tags": []
          },
          "execution_count": 17
        }
      ]
    },
    {
      "cell_type": "code",
      "metadata": {
        "colab": {
          "base_uri": "https://localhost:8080/",
          "height": 195
        },
        "id": "SjNzofF89u0p",
        "outputId": "686caad8-e8c0-4670-cfb3-5dc5b3d335fa"
      },
      "source": [
        "country_df.tail()"
      ],
      "execution_count": 20,
      "outputs": [
        {
          "output_type": "execute_result",
          "data": {
            "text/html": [
              "<div>\n",
              "<style scoped>\n",
              "    .dataframe tbody tr th:only-of-type {\n",
              "        vertical-align: middle;\n",
              "    }\n",
              "\n",
              "    .dataframe tbody tr th {\n",
              "        vertical-align: top;\n",
              "    }\n",
              "\n",
              "    .dataframe thead th {\n",
              "        text-align: right;\n",
              "    }\n",
              "</style>\n",
              "<table border=\"1\" class=\"dataframe\">\n",
              "  <thead>\n",
              "    <tr style=\"text-align: right;\">\n",
              "      <th></th>\n",
              "      <th>Country_Name</th>\n",
              "      <th>Count</th>\n",
              "    </tr>\n",
              "  </thead>\n",
              "  <tbody>\n",
              "    <tr>\n",
              "      <th>32</th>\n",
              "      <td>Lithuania</td>\n",
              "      <td>35</td>\n",
              "    </tr>\n",
              "    <tr>\n",
              "      <th>33</th>\n",
              "      <td>Brazil</td>\n",
              "      <td>32</td>\n",
              "    </tr>\n",
              "    <tr>\n",
              "      <th>34</th>\n",
              "      <td>Czech Republic</td>\n",
              "      <td>25</td>\n",
              "    </tr>\n",
              "    <tr>\n",
              "      <th>35</th>\n",
              "      <td>Bahrain</td>\n",
              "      <td>17</td>\n",
              "    </tr>\n",
              "    <tr>\n",
              "      <th>36</th>\n",
              "      <td>Saudi Arabia</td>\n",
              "      <td>9</td>\n",
              "    </tr>\n",
              "  </tbody>\n",
              "</table>\n",
              "</div>"
            ],
            "text/plain": [
              "      Country_Name  Count\n",
              "32       Lithuania     35\n",
              "33          Brazil     32\n",
              "34  Czech Republic     25\n",
              "35         Bahrain     17\n",
              "36    Saudi Arabia      9"
            ]
          },
          "metadata": {
            "tags": []
          },
          "execution_count": 20
        }
      ]
    },
    {
      "cell_type": "code",
      "metadata": {
        "colab": {
          "base_uri": "https://localhost:8080/",
          "height": 535
        },
        "id": "K0VThZU_95zw",
        "outputId": "7967a135-d8c8-4867-9914-d2ce466b95f7"
      },
      "source": [
        "plt.figure(figsize=(13,8))\r\n",
        "plt.title('Top 5 Country based on the Country')\r\n",
        "sns.barplot(x='Country_Name',y='Count',data=country_df[:5])"
      ],
      "execution_count": 23,
      "outputs": [
        {
          "output_type": "execute_result",
          "data": {
            "text/plain": [
              "<matplotlib.axes._subplots.AxesSubplot at 0x7f72c0bc0198>"
            ]
          },
          "metadata": {
            "tags": []
          },
          "execution_count": 23
        },
        {
          "output_type": "display_data",
          "data": {
            "image/png": "[encoded data removed]",
            "text/plain": [
              "<Figure size 936x576 with 1 Axes>"
            ]
          },
          "metadata": {
            "tags": []
          }
        }
      ]
    },
    {
      "cell_type": "code",
      "metadata": {
        "colab": {
          "base_uri": "https://localhost:8080/",
          "height": 535
        },
        "id": "TPIew4FL958v",
        "outputId": "66a5851d-bd5d-4317-dc8a-c38425e1405b"
      },
      "source": [
        "plt.figure(figsize=(13,8))\r\n",
        "plt.title('Bottum 5 Country based on Country')\r\n",
        "sns.barplot(x='Country_Name',y='Count',data=country_df[-5:])"
      ],
      "execution_count": 24,
      "outputs": [
        {
          "output_type": "execute_result",
          "data": {
            "text/plain": [
              "<matplotlib.axes._subplots.AxesSubplot at 0x7f7294008c18>"
            ]
          },
          "metadata": {
            "tags": []
          },
          "execution_count": 24
        },
        {
          "output_type": "display_data",
          "data": {
            "image/png": "[encoded data removed]",
            "text/plain": [
              "<Figure size 936x576 with 1 Axes>"
            ]
          },
          "metadata": {
            "tags": []
          }
        }
      ]
    },
    {
      "cell_type": "code",
      "metadata": {
        "colab": {
          "base_uri": "https://localhost:8080/",
          "height": 314
        },
        "id": "mAQkVsVIWiAr",
        "outputId": "37ea2b4d-69c8-45cc-e3f7-873c0deafd60"
      },
      "source": [
        "df[df['Country']=='Saudi Arabia']"
      ],
      "execution_count": 25,
      "outputs": [
        {
          "output_type": "execute_result",
          "data": {
            "text/html": [
              "<div>\n",
              "<style scoped>\n",
              "    .dataframe tbody tr th:only-of-type {\n",
              "        vertical-align: middle;\n",
              "    }\n",
              "\n",
              "    .dataframe tbody tr th {\n",
              "        vertical-align: top;\n",
              "    }\n",
              "\n",
              "    .dataframe thead th {\n",
              "        text-align: right;\n",
              "    }\n",
              "</style>\n",
              "<table border=\"1\" class=\"dataframe\">\n",
              "  <thead>\n",
              "    <tr style=\"text-align: right;\">\n",
              "      <th></th>\n",
              "      <th>InvoiceNo</th>\n",
              "      <th>StockCode</th>\n",
              "      <th>Description</th>\n",
              "      <th>Quantity</th>\n",
              "      <th>InvoiceDate</th>\n",
              "      <th>UnitPrice</th>\n",
              "      <th>CustomerID</th>\n",
              "      <th>Country</th>\n",
              "    </tr>\n",
              "  </thead>\n",
              "  <tbody>\n",
              "    <tr>\n",
              "      <th>100810</th>\n",
              "      <td>544838</td>\n",
              "      <td>22915</td>\n",
              "      <td>ASSORTED BOTTLE TOP  MAGNETS</td>\n",
              "      <td>12</td>\n",
              "      <td>2011-02-24 10:34:00</td>\n",
              "      <td>0.42</td>\n",
              "      <td>12565.0</td>\n",
              "      <td>Saudi Arabia</td>\n",
              "    </tr>\n",
              "    <tr>\n",
              "      <th>100811</th>\n",
              "      <td>544838</td>\n",
              "      <td>22363</td>\n",
              "      <td>GLASS JAR MARMALADE</td>\n",
              "      <td>6</td>\n",
              "      <td>2011-02-24 10:34:00</td>\n",
              "      <td>2.95</td>\n",
              "      <td>12565.0</td>\n",
              "      <td>Saudi Arabia</td>\n",
              "    </tr>\n",
              "    <tr>\n",
              "      <th>100812</th>\n",
              "      <td>544838</td>\n",
              "      <td>22362</td>\n",
              "      <td>GLASS JAR PEACOCK BATH SALTS</td>\n",
              "      <td>6</td>\n",
              "      <td>2011-02-24 10:34:00</td>\n",
              "      <td>2.95</td>\n",
              "      <td>12565.0</td>\n",
              "      <td>Saudi Arabia</td>\n",
              "    </tr>\n",
              "    <tr>\n",
              "      <th>100813</th>\n",
              "      <td>544838</td>\n",
              "      <td>22361</td>\n",
              "      <td>GLASS JAR DAISY FRESH COTTON WOOL</td>\n",
              "      <td>6</td>\n",
              "      <td>2011-02-24 10:34:00</td>\n",
              "      <td>2.95</td>\n",
              "      <td>12565.0</td>\n",
              "      <td>Saudi Arabia</td>\n",
              "    </tr>\n",
              "    <tr>\n",
              "      <th>100814</th>\n",
              "      <td>544838</td>\n",
              "      <td>22553</td>\n",
              "      <td>PLASTERS IN TIN SKULLS</td>\n",
              "      <td>12</td>\n",
              "      <td>2011-02-24 10:34:00</td>\n",
              "      <td>1.65</td>\n",
              "      <td>12565.0</td>\n",
              "      <td>Saudi Arabia</td>\n",
              "    </tr>\n",
              "    <tr>\n",
              "      <th>100815</th>\n",
              "      <td>544838</td>\n",
              "      <td>22555</td>\n",
              "      <td>PLASTERS IN TIN STRONGMAN</td>\n",
              "      <td>12</td>\n",
              "      <td>2011-02-24 10:34:00</td>\n",
              "      <td>1.65</td>\n",
              "      <td>12565.0</td>\n",
              "      <td>Saudi Arabia</td>\n",
              "    </tr>\n",
              "    <tr>\n",
              "      <th>100816</th>\n",
              "      <td>544838</td>\n",
              "      <td>22556</td>\n",
              "      <td>PLASTERS IN TIN CIRCUS PARADE</td>\n",
              "      <td>12</td>\n",
              "      <td>2011-02-24 10:34:00</td>\n",
              "      <td>1.65</td>\n",
              "      <td>12565.0</td>\n",
              "      <td>Saudi Arabia</td>\n",
              "    </tr>\n",
              "    <tr>\n",
              "      <th>100817</th>\n",
              "      <td>544838</td>\n",
              "      <td>20781</td>\n",
              "      <td>GOLD EAR MUFF HEADPHONES</td>\n",
              "      <td>2</td>\n",
              "      <td>2011-02-24 10:34:00</td>\n",
              "      <td>5.49</td>\n",
              "      <td>12565.0</td>\n",
              "      <td>Saudi Arabia</td>\n",
              "    </tr>\n",
              "    <tr>\n",
              "      <th>100818</th>\n",
              "      <td>544838</td>\n",
              "      <td>22969</td>\n",
              "      <td>HOMEMADE JAM SCENTED CANDLES</td>\n",
              "      <td>12</td>\n",
              "      <td>2011-02-24 10:34:00</td>\n",
              "      <td>1.45</td>\n",
              "      <td>12565.0</td>\n",
              "      <td>Saudi Arabia</td>\n",
              "    </tr>\n",
              "  </tbody>\n",
              "</table>\n",
              "</div>"
            ],
            "text/plain": [
              "       InvoiceNo StockCode  ... CustomerID       Country\n",
              "100810    544838     22915  ...    12565.0  Saudi Arabia\n",
              "100811    544838     22363  ...    12565.0  Saudi Arabia\n",
              "100812    544838     22362  ...    12565.0  Saudi Arabia\n",
              "100813    544838     22361  ...    12565.0  Saudi Arabia\n",
              "100814    544838     22553  ...    12565.0  Saudi Arabia\n",
              "100815    544838     22555  ...    12565.0  Saudi Arabia\n",
              "100816    544838     22556  ...    12565.0  Saudi Arabia\n",
              "100817    544838     20781  ...    12565.0  Saudi Arabia\n",
              "100818    544838     22969  ...    12565.0  Saudi Arabia\n",
              "\n",
              "[9 rows x 8 columns]"
            ]
          },
          "metadata": {
            "tags": []
          },
          "execution_count": 25
        }
      ]
    },
    {
      "cell_type": "code",
      "metadata": {
        "colab": {
          "base_uri": "https://localhost:8080/",
          "height": 644
        },
        "id": "fDpX06f496Dr",
        "outputId": "bab10ea8-8341-4359-cc10-7131c06d3e90"
      },
      "source": [
        "\r\n",
        "plt.figure(figsize=(15,10))\r\n",
        "plt.title('distribution of Quantity')\r\n",
        "sns.distplot(df['Quantity'],color=\"B\")"
      ],
      "execution_count": 26,
      "outputs": [
        {
          "output_type": "execute_result",
          "data": {
            "text/plain": [
              "<matplotlib.axes._subplots.AxesSubplot at 0x7f729a1ad358>"
            ]
          },
          "metadata": {
            "tags": []
          },
          "execution_count": 26
        },
        {
          "output_type": "display_data",
          "data": {
            "image/png": "[encoded data removed]",
            "text/plain": [
              "<Figure size 1080x720 with 1 Axes>"
            ]
          },
          "metadata": {
            "tags": []
          }
        }
      ]
    },
    {
      "cell_type": "code",
      "metadata": {
        "colab": {
          "base_uri": "https://localhost:8080/",
          "height": 644
        },
        "id": "ybFAEMNG96HN",
        "outputId": "9745d765-2333-4180-aea6-818150fcbcf9"
      },
      "source": [
        "\r\n",
        "plt.figure(figsize=(15,10))\r\n",
        "plt.title('log distribution of Quantity')\r\n",
        "sns.distplot(np.log(df['Quantity']),color=\"B\")"
      ],
      "execution_count": 27,
      "outputs": [
        {
          "output_type": "execute_result",
          "data": {
            "text/plain": [
              "<matplotlib.axes._subplots.AxesSubplot at 0x7f7292e52940>"
            ]
          },
          "metadata": {
            "tags": []
          },
          "execution_count": 27
        },
        {
          "output_type": "display_data",
          "data": {
            "image/png": "[encoded data removed]",
            "text/plain": [
              "<Figure size 1080x720 with 1 Axes>"
            ]
          },
          "metadata": {
            "tags": []
          }
        }
      ]
    },
    {
      "cell_type": "code",
      "metadata": {
        "colab": {
          "base_uri": "https://localhost:8080/"
        },
        "id": "yLdEatE8BPKu",
        "outputId": "1af505d3-7183-42aa-95bf-64415df75b38"
      },
      "source": [
        "df['Quantity'].unique()"
      ],
      "execution_count": 28,
      "outputs": [
        {
          "output_type": "execute_result",
          "data": {
            "text/plain": [
              "array([    6,     8,     2,    32,     3,     4,    24,    12,    48,\n",
              "          18,    20,    36,    80,    64,    10,   120,    96,    23,\n",
              "           5,     1,    50,    40,   100,   192,   432,   144,   288,\n",
              "          16,     9,   128,    25,    30,    28,     7,    72,   200,\n",
              "         600,   480,    14,    11,    70,   252,    60,   216,   384,\n",
              "          27,   108,    52,    75,   270,    42,   240,    90,   320,\n",
              "          17,  1824,   204,    69,   160,  2880,  1400,    19,    39,\n",
              "          56,    13,  1440,    15,   720,   156,   324,    41,   402,\n",
              "         378,   150,   300,    22,    34,   408,   972,   208,  1008,\n",
              "          26,  1000,  1488,   250,  1394,   400,   110,    37,    78,\n",
              "          21,   272,    84,    47,  1728,    38,    53,    76,   576,\n",
              "          29,  2400,   500,   180,   960,  1296,   147,   168,   256,\n",
              "          54,    31,   860,  1010,  1356,  1284,   186,   114,   360,\n",
              "        1930,  2000,  3114,  1300,   670,   176,   648,    62, 74215,\n",
              "          89,    33,    46,   112,   456,   900,    45,   130,  2592,\n",
              "         420,   800,    35,  1200,   864,   504,  1056,  1500,   280,\n",
              "         407,   141,  3906,  1152,   198,   117,   125,    81,   768,\n",
              "          88,    43,   700,  2160,    55,   342,   304,   640,   220,\n",
              "         350,   312,   392,   330,   151,    44,   462,    66,   492,\n",
              "         273,    65,    85,  1350,   428,   336,   101,   132,   227,\n",
              "        2700,   222,   228,   246,   906,   756,   888,   552,   224,\n",
              "         738,   608,  4300,   276,    58,    98,    51,    74,  1600,\n",
              "         323,  1515,   660,   104,   264,   188,   588,   612,   152,\n",
              "          49,   430,   701,   828,   540,   696,   560,   121,   512,\n",
              "         291,  3186,    83,    87,    79,   109,   129,   261,   352,\n",
              "         102,   348,  1900,   157,   116,   968,   684,   824,   196,\n",
              "         124,   248,   410,   236,   230,   210,   448,   140,    86,\n",
              "         840,   450,    93,   494,    92,  1788,   624,   744,   416,\n",
              "         496,   396,   306,  1878,  1944,   666,   708,  1428,   852,\n",
              "        1412,   528,   183,  1540,   672,    67,    63,    94,   255,\n",
              "          57,   126,   468,  4800,   912,  1992,   136,  3000,   232,\n",
              "         832,   992,   630,  1020,  2100,   162,   234,   244, 12540,\n",
              "          95,   760,   139,   115,   774,  2040,  1120,    59,   490,\n",
              "         388,   620,  1404,   698, 80995])"
            ]
          },
          "metadata": {
            "tags": []
          },
          "execution_count": 28
        }
      ]
    },
    {
      "cell_type": "code",
      "metadata": {
        "id": "x7GfgQ7zBSrm"
      },
      "source": [
        "df=df[df['Quantity']>=1]"
      ],
      "execution_count": 29,
      "outputs": []
    },
    {
      "cell_type": "code",
      "metadata": {
        "colab": {
          "base_uri": "https://localhost:8080/"
        },
        "id": "iUMW5-jiBY4Y",
        "outputId": "1f50ec3c-931b-4e3d-92c4-d4d58e5b58ae"
      },
      "source": [
        "df.info()"
      ],
      "execution_count": 30,
      "outputs": [
        {
          "output_type": "stream",
          "text": [
            "<class 'pandas.core.frame.DataFrame'>\n",
            "Int64Index: 397924 entries, 0 to 541908\n",
            "Data columns (total 8 columns):\n",
            " #   Column       Non-Null Count   Dtype         \n",
            "---  ------       --------------   -----         \n",
            " 0   InvoiceNo    397924 non-null  object        \n",
            " 1   StockCode    397924 non-null  object        \n",
            " 2   Description  397924 non-null  object        \n",
            " 3   Quantity     397924 non-null  int64         \n",
            " 4   InvoiceDate  397924 non-null  datetime64[ns]\n",
            " 5   UnitPrice    397924 non-null  float64       \n",
            " 6   CustomerID   397924 non-null  float64       \n",
            " 7   Country      397924 non-null  object        \n",
            "dtypes: datetime64[ns](1), float64(2), int64(1), object(4)\n",
            "memory usage: 27.3+ MB\n"
          ],
          "name": "stdout"
        }
      ]
    },
    {
      "cell_type": "code",
      "metadata": {
        "colab": {
          "base_uri": "https://localhost:8080/",
          "height": 644
        },
        "id": "DYYfUNI_CKm-",
        "outputId": "02cf370e-c09f-40d3-e84e-247d91030915"
      },
      "source": [
        "\r\n",
        "plt.figure(figsize=(15,10))\r\n",
        "plt.title('distribution of Quantity')\r\n",
        "sns.distplot(np.log(df['Quantity']),color=\"B\")"
      ],
      "execution_count": 31,
      "outputs": [
        {
          "output_type": "execute_result",
          "data": {
            "text/plain": [
              "<matplotlib.axes._subplots.AxesSubplot at 0x7f729b35b940>"
            ]
          },
          "metadata": {
            "tags": []
          },
          "execution_count": 31
        },
        {
          "output_type": "display_data",
          "data": {
            "image/png": "[encoded data removed]",
            "text/plain": [
              "<Figure size 1080x720 with 1 Axes>"
            ]
          },
          "metadata": {
            "tags": []
          }
        }
      ]
    },
    {
      "cell_type": "code",
      "metadata": {
        "colab": {
          "base_uri": "https://localhost:8080/",
          "height": 644
        },
        "id": "_xXvo059rKF5",
        "outputId": "e54d1dd2-8e21-4ef5-acac-9cc156c0b025"
      },
      "source": [
        "\r\n",
        "plt.figure(figsize=(15,10))\r\n",
        "plt.title('distribution of UnitPrice')\r\n",
        "sns.distplot(df['UnitPrice'],color=\"B\")"
      ],
      "execution_count": 32,
      "outputs": [
        {
          "output_type": "execute_result",
          "data": {
            "text/plain": [
              "<matplotlib.axes._subplots.AxesSubplot at 0x7f7296550be0>"
            ]
          },
          "metadata": {
            "tags": []
          },
          "execution_count": 32
        },
        {
          "output_type": "display_data",
          "data": {
            "image/png": "[encoded data removed]",
            "text/plain": [
              "<Figure size 1080x720 with 1 Axes>"
            ]
          },
          "metadata": {
            "tags": []
          }
        }
      ]
    },
    {
      "cell_type": "code",
      "metadata": {
        "colab": {
          "base_uri": "https://localhost:8080/",
          "height": 47
        },
        "id": "w4KDQWNfrQtg",
        "outputId": "90caa1cc-d5cd-4fe7-a6c8-ddbbf4486746"
      },
      "source": [
        "df[df['UnitPrice']<0]"
      ],
      "execution_count": 33,
      "outputs": [
        {
          "output_type": "execute_result",
          "data": {
            "text/html": [
              "<div>\n",
              "<style scoped>\n",
              "    .dataframe tbody tr th:only-of-type {\n",
              "        vertical-align: middle;\n",
              "    }\n",
              "\n",
              "    .dataframe tbody tr th {\n",
              "        vertical-align: top;\n",
              "    }\n",
              "\n",
              "    .dataframe thead th {\n",
              "        text-align: right;\n",
              "    }\n",
              "</style>\n",
              "<table border=\"1\" class=\"dataframe\">\n",
              "  <thead>\n",
              "    <tr style=\"text-align: right;\">\n",
              "      <th></th>\n",
              "      <th>InvoiceNo</th>\n",
              "      <th>StockCode</th>\n",
              "      <th>Description</th>\n",
              "      <th>Quantity</th>\n",
              "      <th>InvoiceDate</th>\n",
              "      <th>UnitPrice</th>\n",
              "      <th>CustomerID</th>\n",
              "      <th>Country</th>\n",
              "    </tr>\n",
              "  </thead>\n",
              "  <tbody>\n",
              "  </tbody>\n",
              "</table>\n",
              "</div>"
            ],
            "text/plain": [
              "Empty DataFrame\n",
              "Columns: [InvoiceNo, StockCode, Description, Quantity, InvoiceDate, UnitPrice, CustomerID, Country]\n",
              "Index: []"
            ]
          },
          "metadata": {
            "tags": []
          },
          "execution_count": 33
        }
      ]
    },
    {
      "cell_type": "code",
      "metadata": {
        "id": "8g_SUDVFrlQ0"
      },
      "source": [
        "df=df[df['UnitPrice']>0]"
      ],
      "execution_count": 34,
      "outputs": []
    },
    {
      "cell_type": "code",
      "metadata": {
        "colab": {
          "base_uri": "https://localhost:8080/",
          "height": 106
        },
        "id": "pGtV_h_2EeJX",
        "outputId": "7ae40c14-a492-4f80-857d-cfb647815586"
      },
      "source": [
        "df.head(2)"
      ],
      "execution_count": 35,
      "outputs": [
        {
          "output_type": "execute_result",
          "data": {
            "text/html": [
              "<div>\n",
              "<style scoped>\n",
              "    .dataframe tbody tr th:only-of-type {\n",
              "        vertical-align: middle;\n",
              "    }\n",
              "\n",
              "    .dataframe tbody tr th {\n",
              "        vertical-align: top;\n",
              "    }\n",
              "\n",
              "    .dataframe thead th {\n",
              "        text-align: right;\n",
              "    }\n",
              "</style>\n",
              "<table border=\"1\" class=\"dataframe\">\n",
              "  <thead>\n",
              "    <tr style=\"text-align: right;\">\n",
              "      <th></th>\n",
              "      <th>InvoiceNo</th>\n",
              "      <th>StockCode</th>\n",
              "      <th>Description</th>\n",
              "      <th>Quantity</th>\n",
              "      <th>InvoiceDate</th>\n",
              "      <th>UnitPrice</th>\n",
              "      <th>CustomerID</th>\n",
              "      <th>Country</th>\n",
              "    </tr>\n",
              "  </thead>\n",
              "  <tbody>\n",
              "    <tr>\n",
              "      <th>0</th>\n",
              "      <td>536365</td>\n",
              "      <td>85123A</td>\n",
              "      <td>WHITE HANGING HEART T-LIGHT HOLDER</td>\n",
              "      <td>6</td>\n",
              "      <td>2010-12-01 08:26:00</td>\n",
              "      <td>2.55</td>\n",
              "      <td>17850.0</td>\n",
              "      <td>United Kingdom</td>\n",
              "    </tr>\n",
              "    <tr>\n",
              "      <th>1</th>\n",
              "      <td>536365</td>\n",
              "      <td>71053</td>\n",
              "      <td>WHITE METAL LANTERN</td>\n",
              "      <td>6</td>\n",
              "      <td>2010-12-01 08:26:00</td>\n",
              "      <td>3.39</td>\n",
              "      <td>17850.0</td>\n",
              "      <td>United Kingdom</td>\n",
              "    </tr>\n",
              "  </tbody>\n",
              "</table>\n",
              "</div>"
            ],
            "text/plain": [
              "  InvoiceNo StockCode  ... CustomerID         Country\n",
              "0    536365    85123A  ...    17850.0  United Kingdom\n",
              "1    536365     71053  ...    17850.0  United Kingdom\n",
              "\n",
              "[2 rows x 8 columns]"
            ]
          },
          "metadata": {
            "tags": []
          },
          "execution_count": 35
        }
      ]
    },
    {
      "cell_type": "markdown",
      "metadata": {
        "id": "2CRWPjL80tWy"
      },
      "source": [
        "#**Feature engineering**"
      ]
    },
    {
      "cell_type": "code",
      "metadata": {
        "id": "zLAtZQOBEJ_N"
      },
      "source": [
        "df[\"InvoiceDate\"] = pd.to_datetime(df[\"InvoiceDate\"], format=\"%Y-%m-%d %H:%M:%S\")"
      ],
      "execution_count": 36,
      "outputs": []
    },
    {
      "cell_type": "code",
      "metadata": {
        "id": "yjnGQ4CTEKCg"
      },
      "source": [
        "df['Day']=df['InvoiceDate'].dt.day_name()"
      ],
      "execution_count": 37,
      "outputs": []
    },
    {
      "cell_type": "code",
      "metadata": {
        "id": "XjBnBbzgEKGC"
      },
      "source": [
        "df[\"year\"] = df[\"InvoiceDate\"].apply(lambda x: x.year)\r\n",
        "df[\"month_num\"] = df[\"InvoiceDate\"].apply(lambda x: x.month)\r\n",
        "df[\"day_num\"] = df[\"InvoiceDate\"].apply(lambda x: x.day)\r\n",
        "df[\"hour\"] = df[\"InvoiceDate\"].apply(lambda x: x.hour)\r\n",
        "df[\"minute\"] = df[\"InvoiceDate\"].apply(lambda x: x.minute)"
      ],
      "execution_count": 38,
      "outputs": []
    },
    {
      "cell_type": "code",
      "metadata": {
        "id": "0B1ciH5jr_Dd"
      },
      "source": [
        "df['Amount']=df['Quantity']*df['UnitPrice']"
      ],
      "execution_count": 40,
      "outputs": []
    },
    {
      "cell_type": "code",
      "metadata": {
        "id": "_of8gdIMGjf0"
      },
      "source": [
        "df['Month']=df['InvoiceDate'].dt.month_name()"
      ],
      "execution_count": 41,
      "outputs": []
    },
    {
      "cell_type": "code",
      "metadata": {
        "colab": {
          "base_uri": "https://localhost:8080/",
          "height": 279
        },
        "id": "NebIv9kjEKJv",
        "outputId": "1e74b496-f7f5-4d35-b460-da6f2ef95d7b"
      },
      "source": [
        "df.head()"
      ],
      "execution_count": 42,
      "outputs": [
        {
          "output_type": "execute_result",
          "data": {
            "text/html": [
              "<div>\n",
              "<style scoped>\n",
              "    .dataframe tbody tr th:only-of-type {\n",
              "        vertical-align: middle;\n",
              "    }\n",
              "\n",
              "    .dataframe tbody tr th {\n",
              "        vertical-align: top;\n",
              "    }\n",
              "\n",
              "    .dataframe thead th {\n",
              "        text-align: right;\n",
              "    }\n",
              "</style>\n",
              "<table border=\"1\" class=\"dataframe\">\n",
              "  <thead>\n",
              "    <tr style=\"text-align: right;\">\n",
              "      <th></th>\n",
              "      <th>InvoiceNo</th>\n",
              "      <th>StockCode</th>\n",
              "      <th>Description</th>\n",
              "      <th>Quantity</th>\n",
              "      <th>InvoiceDate</th>\n",
              "      <th>UnitPrice</th>\n",
              "      <th>CustomerID</th>\n",
              "      <th>Country</th>\n",
              "      <th>Day</th>\n",
              "      <th>year</th>\n",
              "      <th>month_num</th>\n",
              "      <th>day_num</th>\n",
              "      <th>hour</th>\n",
              "      <th>minute</th>\n",
              "      <th>Amount</th>\n",
              "      <th>Month</th>\n",
              "    </tr>\n",
              "  </thead>\n",
              "  <tbody>\n",
              "    <tr>\n",
              "      <th>0</th>\n",
              "      <td>536365</td>\n",
              "      <td>85123A</td>\n",
              "      <td>WHITE HANGING HEART T-LIGHT HOLDER</td>\n",
              "      <td>6</td>\n",
              "      <td>2010-12-01 08:26:00</td>\n",
              "      <td>2.55</td>\n",
              "      <td>17850.0</td>\n",
              "      <td>United Kingdom</td>\n",
              "      <td>Wednesday</td>\n",
              "      <td>2010</td>\n",
              "      <td>12</td>\n",
              "      <td>1</td>\n",
              "      <td>8</td>\n",
              "      <td>26</td>\n",
              "      <td>15.30</td>\n",
              "      <td>December</td>\n",
              "    </tr>\n",
              "    <tr>\n",
              "      <th>1</th>\n",
              "      <td>536365</td>\n",
              "      <td>71053</td>\n",
              "      <td>WHITE METAL LANTERN</td>\n",
              "      <td>6</td>\n",
              "      <td>2010-12-01 08:26:00</td>\n",
              "      <td>3.39</td>\n",
              "      <td>17850.0</td>\n",
              "      <td>United Kingdom</td>\n",
              "      <td>Wednesday</td>\n",
              "      <td>2010</td>\n",
              "      <td>12</td>\n",
              "      <td>1</td>\n",
              "      <td>8</td>\n",
              "      <td>26</td>\n",
              "      <td>20.34</td>\n",
              "      <td>December</td>\n",
              "    </tr>\n",
              "    <tr>\n",
              "      <th>2</th>\n",
              "      <td>536365</td>\n",
              "      <td>84406B</td>\n",
              "      <td>CREAM CUPID HEARTS COAT HANGER</td>\n",
              "      <td>8</td>\n",
              "      <td>2010-12-01 08:26:00</td>\n",
              "      <td>2.75</td>\n",
              "      <td>17850.0</td>\n",
              "      <td>United Kingdom</td>\n",
              "      <td>Wednesday</td>\n",
              "      <td>2010</td>\n",
              "      <td>12</td>\n",
              "      <td>1</td>\n",
              "      <td>8</td>\n",
              "      <td>26</td>\n",
              "      <td>22.00</td>\n",
              "      <td>December</td>\n",
              "    </tr>\n",
              "    <tr>\n",
              "      <th>3</th>\n",
              "      <td>536365</td>\n",
              "      <td>84029G</td>\n",
              "      <td>KNITTED UNION FLAG HOT WATER BOTTLE</td>\n",
              "      <td>6</td>\n",
              "      <td>2010-12-01 08:26:00</td>\n",
              "      <td>3.39</td>\n",
              "      <td>17850.0</td>\n",
              "      <td>United Kingdom</td>\n",
              "      <td>Wednesday</td>\n",
              "      <td>2010</td>\n",
              "      <td>12</td>\n",
              "      <td>1</td>\n",
              "      <td>8</td>\n",
              "      <td>26</td>\n",
              "      <td>20.34</td>\n",
              "      <td>December</td>\n",
              "    </tr>\n",
              "    <tr>\n",
              "      <th>4</th>\n",
              "      <td>536365</td>\n",
              "      <td>84029E</td>\n",
              "      <td>RED WOOLLY HOTTIE WHITE HEART.</td>\n",
              "      <td>6</td>\n",
              "      <td>2010-12-01 08:26:00</td>\n",
              "      <td>3.39</td>\n",
              "      <td>17850.0</td>\n",
              "      <td>United Kingdom</td>\n",
              "      <td>Wednesday</td>\n",
              "      <td>2010</td>\n",
              "      <td>12</td>\n",
              "      <td>1</td>\n",
              "      <td>8</td>\n",
              "      <td>26</td>\n",
              "      <td>20.34</td>\n",
              "      <td>December</td>\n",
              "    </tr>\n",
              "  </tbody>\n",
              "</table>\n",
              "</div>"
            ],
            "text/plain": [
              "  InvoiceNo StockCode  ... Amount     Month\n",
              "0    536365    85123A  ...  15.30  December\n",
              "1    536365     71053  ...  20.34  December\n",
              "2    536365    84406B  ...  22.00  December\n",
              "3    536365    84029G  ...  20.34  December\n",
              "4    536365    84029E  ...  20.34  December\n",
              "\n",
              "[5 rows x 16 columns]"
            ]
          },
          "metadata": {
            "tags": []
          },
          "execution_count": 42
        }
      ]
    },
    {
      "cell_type": "code",
      "metadata": {
        "colab": {
          "base_uri": "https://localhost:8080/",
          "height": 644
        },
        "id": "QG3em3w8sL17",
        "outputId": "2c3c7342-1db4-4e28-b802-1568ced938d9"
      },
      "source": [
        "\r\n",
        "plt.figure(figsize=(15,10))\r\n",
        "plt.title('distribution of Amount')\r\n",
        "sns.distplot(df['Amount'],color=\"B\")"
      ],
      "execution_count": 43,
      "outputs": [
        {
          "output_type": "execute_result",
          "data": {
            "text/plain": [
              "<matplotlib.axes._subplots.AxesSubplot at 0x7f728ce8ab70>"
            ]
          },
          "metadata": {
            "tags": []
          },
          "execution_count": 43
        },
        {
          "output_type": "display_data",
          "data": {
            "image/png": "[encoded data removed]",
            "text/plain": [
              "<Figure size 1080x720 with 1 Axes>"
            ]
          },
          "metadata": {
            "tags": []
          }
        }
      ]
    },
    {
      "cell_type": "code",
      "metadata": {
        "colab": {
          "base_uri": "https://localhost:8080/"
        },
        "id": "yju9--0isw0Q",
        "outputId": "60e660b3-eef2-41ba-d538-bf63c01b60e8"
      },
      "source": [
        "df['Amount'].describe()"
      ],
      "execution_count": 44,
      "outputs": [
        {
          "output_type": "execute_result",
          "data": {
            "text/plain": [
              "count    397884.000000\n",
              "mean         22.397000\n",
              "std         309.071041\n",
              "min           0.001000\n",
              "25%           4.680000\n",
              "50%          11.800000\n",
              "75%          19.800000\n",
              "max      168469.600000\n",
              "Name: Amount, dtype: float64"
            ]
          },
          "metadata": {
            "tags": []
          },
          "execution_count": 44
        }
      ]
    },
    {
      "cell_type": "code",
      "metadata": {
        "colab": {
          "base_uri": "https://localhost:8080/",
          "height": 502
        },
        "id": "qorpNnDesd_I",
        "outputId": "33e72184-7529-4e0c-d0a2-101b3e872bfd"
      },
      "source": [
        "plt.figure(figsize=(13,8))\r\n",
        "df['Amount'].describe().plot()"
      ],
      "execution_count": 45,
      "outputs": [
        {
          "output_type": "execute_result",
          "data": {
            "text/plain": [
              "<matplotlib.axes._subplots.AxesSubplot at 0x7f728d7b34e0>"
            ]
          },
          "metadata": {
            "tags": []
          },
          "execution_count": 45
        },
        {
          "output_type": "display_data",
          "data": {
            "image/png": "[encoded data removed]",
            "text/plain": [
              "<Figure size 936x576 with 1 Axes>"
            ]
          },
          "metadata": {
            "tags": []
          }
        }
      ]
    },
    {
      "cell_type": "code",
      "metadata": {
        "colab": {
          "base_uri": "https://localhost:8080/",
          "height": 225
        },
        "id": "jO3cZ1rvEKNk",
        "outputId": "41185b62-432b-4544-cc4e-cc896c445636"
      },
      "source": [
        "day_df=df['Day'].value_counts().reset_index()\r\n",
        "day_df.rename(columns={'index': 'Day_Name'}, inplace=True)\r\n",
        "day_df.rename(columns={'Day': 'Count'}, inplace=True)\r\n",
        "day_df"
      ],
      "execution_count": 46,
      "outputs": [
        {
          "output_type": "execute_result",
          "data": {
            "text/html": [
              "<div>\n",
              "<style scoped>\n",
              "    .dataframe tbody tr th:only-of-type {\n",
              "        vertical-align: middle;\n",
              "    }\n",
              "\n",
              "    .dataframe tbody tr th {\n",
              "        vertical-align: top;\n",
              "    }\n",
              "\n",
              "    .dataframe thead th {\n",
              "        text-align: right;\n",
              "    }\n",
              "</style>\n",
              "<table border=\"1\" class=\"dataframe\">\n",
              "  <thead>\n",
              "    <tr style=\"text-align: right;\">\n",
              "      <th></th>\n",
              "      <th>Day_Name</th>\n",
              "      <th>Count</th>\n",
              "    </tr>\n",
              "  </thead>\n",
              "  <tbody>\n",
              "    <tr>\n",
              "      <th>0</th>\n",
              "      <td>Thursday</td>\n",
              "      <td>80035</td>\n",
              "    </tr>\n",
              "    <tr>\n",
              "      <th>1</th>\n",
              "      <td>Wednesday</td>\n",
              "      <td>68885</td>\n",
              "    </tr>\n",
              "    <tr>\n",
              "      <th>2</th>\n",
              "      <td>Tuesday</td>\n",
              "      <td>66473</td>\n",
              "    </tr>\n",
              "    <tr>\n",
              "      <th>3</th>\n",
              "      <td>Monday</td>\n",
              "      <td>64893</td>\n",
              "    </tr>\n",
              "    <tr>\n",
              "      <th>4</th>\n",
              "      <td>Sunday</td>\n",
              "      <td>62773</td>\n",
              "    </tr>\n",
              "    <tr>\n",
              "      <th>5</th>\n",
              "      <td>Friday</td>\n",
              "      <td>54825</td>\n",
              "    </tr>\n",
              "  </tbody>\n",
              "</table>\n",
              "</div>"
            ],
            "text/plain": [
              "    Day_Name  Count\n",
              "0   Thursday  80035\n",
              "1  Wednesday  68885\n",
              "2    Tuesday  66473\n",
              "3     Monday  64893\n",
              "4     Sunday  62773\n",
              "5     Friday  54825"
            ]
          },
          "metadata": {
            "tags": []
          },
          "execution_count": 46
        }
      ]
    },
    {
      "cell_type": "code",
      "metadata": {
        "id": "kNqexPZEGLdB"
      },
      "source": [
        ""
      ],
      "execution_count": null,
      "outputs": []
    },
    {
      "cell_type": "code",
      "metadata": {
        "colab": {
          "base_uri": "https://localhost:8080/",
          "height": 535
        },
        "id": "aAs9jQm_EKRD",
        "outputId": "9bee0849-d3a1-462f-f4d5-5d1ee3f1c0ca"
      },
      "source": [
        "plt.figure(figsize=(13,8))\r\n",
        "plt.title('Day')\r\n",
        "sns.barplot(x='Day_Name',y='Count',data=day_df)"
      ],
      "execution_count": 47,
      "outputs": [
        {
          "output_type": "execute_result",
          "data": {
            "text/plain": [
              "<matplotlib.axes._subplots.AxesSubplot at 0x7f728da828d0>"
            ]
          },
          "metadata": {
            "tags": []
          },
          "execution_count": 47
        },
        {
          "output_type": "display_data",
          "data": {
            "image/png": "[encoded data removed]",
            "text/plain": [
              "<Figure size 936x576 with 1 Axes>"
            ]
          },
          "metadata": {
            "tags": []
          }
        }
      ]
    },
    {
      "cell_type": "code",
      "metadata": {
        "colab": {
          "base_uri": "https://localhost:8080/",
          "height": 402
        },
        "id": "Iidnm9GlGMeo",
        "outputId": "e13ec3b4-6b6c-4ec5-af54-7874cc4567e2"
      },
      "source": [
        "month_df=df['Month'].value_counts().reset_index()\r\n",
        "month_df.rename(columns={'index': 'Month_Name'}, inplace=True)\r\n",
        "month_df.rename(columns={'Month': 'Count'}, inplace=True)\r\n",
        "month_df"
      ],
      "execution_count": 48,
      "outputs": [
        {
          "output_type": "execute_result",
          "data": {
            "text/html": [
              "<div>\n",
              "<style scoped>\n",
              "    .dataframe tbody tr th:only-of-type {\n",
              "        vertical-align: middle;\n",
              "    }\n",
              "\n",
              "    .dataframe tbody tr th {\n",
              "        vertical-align: top;\n",
              "    }\n",
              "\n",
              "    .dataframe thead th {\n",
              "        text-align: right;\n",
              "    }\n",
              "</style>\n",
              "<table border=\"1\" class=\"dataframe\">\n",
              "  <thead>\n",
              "    <tr style=\"text-align: right;\">\n",
              "      <th></th>\n",
              "      <th>Month_Name</th>\n",
              "      <th>Count</th>\n",
              "    </tr>\n",
              "  </thead>\n",
              "  <tbody>\n",
              "    <tr>\n",
              "      <th>0</th>\n",
              "      <td>November</td>\n",
              "      <td>64531</td>\n",
              "    </tr>\n",
              "    <tr>\n",
              "      <th>1</th>\n",
              "      <td>October</td>\n",
              "      <td>49554</td>\n",
              "    </tr>\n",
              "    <tr>\n",
              "      <th>2</th>\n",
              "      <td>December</td>\n",
              "      <td>43461</td>\n",
              "    </tr>\n",
              "    <tr>\n",
              "      <th>3</th>\n",
              "      <td>September</td>\n",
              "      <td>40028</td>\n",
              "    </tr>\n",
              "    <tr>\n",
              "      <th>4</th>\n",
              "      <td>May</td>\n",
              "      <td>28320</td>\n",
              "    </tr>\n",
              "    <tr>\n",
              "      <th>5</th>\n",
              "      <td>June</td>\n",
              "      <td>27185</td>\n",
              "    </tr>\n",
              "    <tr>\n",
              "      <th>6</th>\n",
              "      <td>March</td>\n",
              "      <td>27175</td>\n",
              "    </tr>\n",
              "    <tr>\n",
              "      <th>7</th>\n",
              "      <td>August</td>\n",
              "      <td>27007</td>\n",
              "    </tr>\n",
              "    <tr>\n",
              "      <th>8</th>\n",
              "      <td>July</td>\n",
              "      <td>26825</td>\n",
              "    </tr>\n",
              "    <tr>\n",
              "      <th>9</th>\n",
              "      <td>April</td>\n",
              "      <td>22642</td>\n",
              "    </tr>\n",
              "    <tr>\n",
              "      <th>10</th>\n",
              "      <td>January</td>\n",
              "      <td>21229</td>\n",
              "    </tr>\n",
              "    <tr>\n",
              "      <th>11</th>\n",
              "      <td>February</td>\n",
              "      <td>19927</td>\n",
              "    </tr>\n",
              "  </tbody>\n",
              "</table>\n",
              "</div>"
            ],
            "text/plain": [
              "   Month_Name  Count\n",
              "0    November  64531\n",
              "1     October  49554\n",
              "2    December  43461\n",
              "3   September  40028\n",
              "4         May  28320\n",
              "5        June  27185\n",
              "6       March  27175\n",
              "7      August  27007\n",
              "8        July  26825\n",
              "9       April  22642\n",
              "10    January  21229\n",
              "11   February  19927"
            ]
          },
          "metadata": {
            "tags": []
          },
          "execution_count": 48
        }
      ]
    },
    {
      "cell_type": "code",
      "metadata": {
        "colab": {
          "base_uri": "https://localhost:8080/",
          "height": 535
        },
        "id": "dsJmBxmuGMiO",
        "outputId": "f412e1c1-dae2-40ef-ca5c-09051e536832"
      },
      "source": [
        "plt.figure(figsize=(13,8))\r\n",
        "plt.title('Month')\r\n",
        "sns.barplot(x='Month_Name',y='Count',data=month_df)"
      ],
      "execution_count": 49,
      "outputs": [
        {
          "output_type": "execute_result",
          "data": {
            "text/plain": [
              "<matplotlib.axes._subplots.AxesSubplot at 0x7f728e5db780>"
            ]
          },
          "metadata": {
            "tags": []
          },
          "execution_count": 49
        },
        {
          "output_type": "display_data",
          "data": {
            "image/png": "[encoded data removed]",
            "text/plain": [
              "<Figure size 936x576 with 1 Axes>"
            ]
          },
          "metadata": {
            "tags": []
          }
        }
      ]
    },
    {
      "cell_type": "code",
      "metadata": {
        "colab": {
          "base_uri": "https://localhost:8080/",
          "height": 491
        },
        "id": "EUfwc_Z6GMlw",
        "outputId": "5c1fca1a-5737-4581-ade1-51c483009b7b"
      },
      "source": [
        "hour_df=df['hour'].value_counts().reset_index()\r\n",
        "hour_df.rename(columns={'index': 'Hour_Name'}, inplace=True)\r\n",
        "hour_df.rename(columns={'hour': 'Count'}, inplace=True)\r\n",
        "hour_df"
      ],
      "execution_count": 50,
      "outputs": [
        {
          "output_type": "execute_result",
          "data": {
            "text/html": [
              "<div>\n",
              "<style scoped>\n",
              "    .dataframe tbody tr th:only-of-type {\n",
              "        vertical-align: middle;\n",
              "    }\n",
              "\n",
              "    .dataframe tbody tr th {\n",
              "        vertical-align: top;\n",
              "    }\n",
              "\n",
              "    .dataframe thead th {\n",
              "        text-align: right;\n",
              "    }\n",
              "</style>\n",
              "<table border=\"1\" class=\"dataframe\">\n",
              "  <thead>\n",
              "    <tr style=\"text-align: right;\">\n",
              "      <th></th>\n",
              "      <th>Hour_Name</th>\n",
              "      <th>Count</th>\n",
              "    </tr>\n",
              "  </thead>\n",
              "  <tbody>\n",
              "    <tr>\n",
              "      <th>0</th>\n",
              "      <td>12</td>\n",
              "      <td>72065</td>\n",
              "    </tr>\n",
              "    <tr>\n",
              "      <th>1</th>\n",
              "      <td>13</td>\n",
              "      <td>64026</td>\n",
              "    </tr>\n",
              "    <tr>\n",
              "      <th>2</th>\n",
              "      <td>14</td>\n",
              "      <td>54118</td>\n",
              "    </tr>\n",
              "    <tr>\n",
              "      <th>3</th>\n",
              "      <td>11</td>\n",
              "      <td>49084</td>\n",
              "    </tr>\n",
              "    <tr>\n",
              "      <th>4</th>\n",
              "      <td>15</td>\n",
              "      <td>45369</td>\n",
              "    </tr>\n",
              "    <tr>\n",
              "      <th>5</th>\n",
              "      <td>10</td>\n",
              "      <td>37997</td>\n",
              "    </tr>\n",
              "    <tr>\n",
              "      <th>6</th>\n",
              "      <td>16</td>\n",
              "      <td>24089</td>\n",
              "    </tr>\n",
              "    <tr>\n",
              "      <th>7</th>\n",
              "      <td>9</td>\n",
              "      <td>21944</td>\n",
              "    </tr>\n",
              "    <tr>\n",
              "      <th>8</th>\n",
              "      <td>17</td>\n",
              "      <td>13071</td>\n",
              "    </tr>\n",
              "    <tr>\n",
              "      <th>9</th>\n",
              "      <td>8</td>\n",
              "      <td>8690</td>\n",
              "    </tr>\n",
              "    <tr>\n",
              "      <th>10</th>\n",
              "      <td>19</td>\n",
              "      <td>3321</td>\n",
              "    </tr>\n",
              "    <tr>\n",
              "      <th>11</th>\n",
              "      <td>18</td>\n",
              "      <td>2928</td>\n",
              "    </tr>\n",
              "    <tr>\n",
              "      <th>12</th>\n",
              "      <td>20</td>\n",
              "      <td>802</td>\n",
              "    </tr>\n",
              "    <tr>\n",
              "      <th>13</th>\n",
              "      <td>7</td>\n",
              "      <td>379</td>\n",
              "    </tr>\n",
              "    <tr>\n",
              "      <th>14</th>\n",
              "      <td>6</td>\n",
              "      <td>1</td>\n",
              "    </tr>\n",
              "  </tbody>\n",
              "</table>\n",
              "</div>"
            ],
            "text/plain": [
              "    Hour_Name  Count\n",
              "0          12  72065\n",
              "1          13  64026\n",
              "2          14  54118\n",
              "3          11  49084\n",
              "4          15  45369\n",
              "5          10  37997\n",
              "6          16  24089\n",
              "7           9  21944\n",
              "8          17  13071\n",
              "9           8   8690\n",
              "10         19   3321\n",
              "11         18   2928\n",
              "12         20    802\n",
              "13          7    379\n",
              "14          6      1"
            ]
          },
          "metadata": {
            "tags": []
          },
          "execution_count": 50
        }
      ]
    },
    {
      "cell_type": "code",
      "metadata": {
        "colab": {
          "base_uri": "https://localhost:8080/",
          "height": 535
        },
        "id": "F6TGyq1TImRO",
        "outputId": "8dcbb7d5-b277-45dc-b0a4-76caa103f828"
      },
      "source": [
        "plt.figure(figsize=(13,8))\r\n",
        "plt.title('Hour')\r\n",
        "sns.barplot(x='Hour_Name',y='Count',data=hour_df)"
      ],
      "execution_count": 51,
      "outputs": [
        {
          "output_type": "execute_result",
          "data": {
            "text/plain": [
              "<matplotlib.axes._subplots.AxesSubplot at 0x7f72896b6b00>"
            ]
          },
          "metadata": {
            "tags": []
          },
          "execution_count": 51
        },
        {
          "output_type": "display_data",
          "data": {
            "image/png": "[encoded data removed]",
            "text/plain": [
              "<Figure size 936x576 with 1 Axes>"
            ]
          },
          "metadata": {
            "tags": []
          }
        }
      ]
    },
    {
      "cell_type": "code",
      "metadata": {
        "id": "ZDTmspGnRqLD"
      },
      "source": [
        "def time_type(time):\r\n",
        "  if(time==6 or time==7 or time==8 or time==9 or time==10 or time==11):\r\n",
        "    return 'Morning'\r\n",
        "  elif(time==12 or time==13 or time==14 or time==15 or time==16 or time==17):\r\n",
        "    return 'Afternoon'\r\n",
        "  else:\r\n",
        "    return 'Evening'"
      ],
      "execution_count": 52,
      "outputs": []
    },
    {
      "cell_type": "code",
      "metadata": {
        "id": "FcbiW-niRvUe"
      },
      "source": [
        "df['Time_type']=df['hour'].apply(time_type)"
      ],
      "execution_count": 53,
      "outputs": []
    },
    {
      "cell_type": "code",
      "metadata": {
        "colab": {
          "base_uri": "https://localhost:8080/",
          "height": 535
        },
        "id": "Phc5vWDkr9fP",
        "outputId": "a222c6e9-f349-470f-8ba9-1e160ca7c180"
      },
      "source": [
        "plt.figure(figsize=(13,8))\r\n",
        "plt.title('Time_type')\r\n",
        "sns.countplot(x='Time_type',data=df)"
      ],
      "execution_count": 54,
      "outputs": [
        {
          "output_type": "execute_result",
          "data": {
            "text/plain": [
              "<matplotlib.axes._subplots.AxesSubplot at 0x7f7289b91c50>"
            ]
          },
          "metadata": {
            "tags": []
          },
          "execution_count": 54
        },
        {
          "output_type": "display_data",
          "data": {
            "image/png": "[encoded data removed]",
            "text/plain": [
              "<Figure size 936x576 with 1 Axes>"
            ]
          },
          "metadata": {
            "tags": []
          }
        }
      ]
    },
    {
      "cell_type": "code",
      "metadata": {
        "colab": {
          "base_uri": "https://localhost:8080/",
          "height": 1000
        },
        "id": "-3hn55cHR3ng",
        "outputId": "19fb4c09-cfd2-49bd-f64a-0e656fec774d"
      },
      "source": [
        "df.head(30)"
      ],
      "execution_count": null,
      "outputs": [
        {
          "output_type": "execute_result",
          "data": {
            "text/html": [
              "<div>\n",
              "<style scoped>\n",
              "    .dataframe tbody tr th:only-of-type {\n",
              "        vertical-align: middle;\n",
              "    }\n",
              "\n",
              "    .dataframe tbody tr th {\n",
              "        vertical-align: top;\n",
              "    }\n",
              "\n",
              "    .dataframe thead th {\n",
              "        text-align: right;\n",
              "    }\n",
              "</style>\n",
              "<table border=\"1\" class=\"dataframe\">\n",
              "  <thead>\n",
              "    <tr style=\"text-align: right;\">\n",
              "      <th></th>\n",
              "      <th>InvoiceNo</th>\n",
              "      <th>StockCode</th>\n",
              "      <th>Description</th>\n",
              "      <th>Quantity</th>\n",
              "      <th>InvoiceDate</th>\n",
              "      <th>UnitPrice</th>\n",
              "      <th>CustomerID</th>\n",
              "      <th>Country</th>\n",
              "      <th>Day</th>\n",
              "      <th>year</th>\n",
              "      <th>month_num</th>\n",
              "      <th>day_num</th>\n",
              "      <th>hour</th>\n",
              "      <th>minute</th>\n",
              "      <th>Amount</th>\n",
              "      <th>Month</th>\n",
              "      <th>Time_type</th>\n",
              "    </tr>\n",
              "  </thead>\n",
              "  <tbody>\n",
              "    <tr>\n",
              "      <th>0</th>\n",
              "      <td>536365</td>\n",
              "      <td>85123A</td>\n",
              "      <td>WHITE HANGING HEART T-LIGHT HOLDER</td>\n",
              "      <td>6</td>\n",
              "      <td>2010-12-01 08:26:00</td>\n",
              "      <td>2.55</td>\n",
              "      <td>17850.0</td>\n",
              "      <td>United Kingdom</td>\n",
              "      <td>Wednesday</td>\n",
              "      <td>2010</td>\n",
              "      <td>12</td>\n",
              "      <td>1</td>\n",
              "      <td>8</td>\n",
              "      <td>26</td>\n",
              "      <td>15.30</td>\n",
              "      <td>December</td>\n",
              "      <td>Morning</td>\n",
              "    </tr>\n",
              "    <tr>\n",
              "      <th>1</th>\n",
              "      <td>536365</td>\n",
              "      <td>71053</td>\n",
              "      <td>WHITE METAL LANTERN</td>\n",
              "      <td>6</td>\n",
              "      <td>2010-12-01 08:26:00</td>\n",
              "      <td>3.39</td>\n",
              "      <td>17850.0</td>\n",
              "      <td>United Kingdom</td>\n",
              "      <td>Wednesday</td>\n",
              "      <td>2010</td>\n",
              "      <td>12</td>\n",
              "      <td>1</td>\n",
              "      <td>8</td>\n",
              "      <td>26</td>\n",
              "      <td>20.34</td>\n",
              "      <td>December</td>\n",
              "      <td>Morning</td>\n",
              "    </tr>\n",
              "    <tr>\n",
              "      <th>2</th>\n",
              "      <td>536365</td>\n",
              "      <td>84406B</td>\n",
              "      <td>CREAM CUPID HEARTS COAT HANGER</td>\n",
              "      <td>8</td>\n",
              "      <td>2010-12-01 08:26:00</td>\n",
              "      <td>2.75</td>\n",
              "      <td>17850.0</td>\n",
              "      <td>United Kingdom</td>\n",
              "      <td>Wednesday</td>\n",
              "      <td>2010</td>\n",
              "      <td>12</td>\n",
              "      <td>1</td>\n",
              "      <td>8</td>\n",
              "      <td>26</td>\n",
              "      <td>22.00</td>\n",
              "      <td>December</td>\n",
              "      <td>Morning</td>\n",
              "    </tr>\n",
              "    <tr>\n",
              "      <th>3</th>\n",
              "      <td>536365</td>\n",
              "      <td>84029G</td>\n",
              "      <td>KNITTED UNION FLAG HOT WATER BOTTLE</td>\n",
              "      <td>6</td>\n",
              "      <td>2010-12-01 08:26:00</td>\n",
              "      <td>3.39</td>\n",
              "      <td>17850.0</td>\n",
              "      <td>United Kingdom</td>\n",
              "      <td>Wednesday</td>\n",
              "      <td>2010</td>\n",
              "      <td>12</td>\n",
              "      <td>1</td>\n",
              "      <td>8</td>\n",
              "      <td>26</td>\n",
              "      <td>20.34</td>\n",
              "      <td>December</td>\n",
              "      <td>Morning</td>\n",
              "    </tr>\n",
              "    <tr>\n",
              "      <th>4</th>\n",
              "      <td>536365</td>\n",
              "      <td>84029E</td>\n",
              "      <td>RED WOOLLY HOTTIE WHITE HEART.</td>\n",
              "      <td>6</td>\n",
              "      <td>2010-12-01 08:26:00</td>\n",
              "      <td>3.39</td>\n",
              "      <td>17850.0</td>\n",
              "      <td>United Kingdom</td>\n",
              "      <td>Wednesday</td>\n",
              "      <td>2010</td>\n",
              "      <td>12</td>\n",
              "      <td>1</td>\n",
              "      <td>8</td>\n",
              "      <td>26</td>\n",
              "      <td>20.34</td>\n",
              "      <td>December</td>\n",
              "      <td>Morning</td>\n",
              "    </tr>\n",
              "    <tr>\n",
              "      <th>5</th>\n",
              "      <td>536365</td>\n",
              "      <td>22752</td>\n",
              "      <td>SET 7 BABUSHKA NESTING BOXES</td>\n",
              "      <td>2</td>\n",
              "      <td>2010-12-01 08:26:00</td>\n",
              "      <td>7.65</td>\n",
              "      <td>17850.0</td>\n",
              "      <td>United Kingdom</td>\n",
              "      <td>Wednesday</td>\n",
              "      <td>2010</td>\n",
              "      <td>12</td>\n",
              "      <td>1</td>\n",
              "      <td>8</td>\n",
              "      <td>26</td>\n",
              "      <td>15.30</td>\n",
              "      <td>December</td>\n",
              "      <td>Morning</td>\n",
              "    </tr>\n",
              "    <tr>\n",
              "      <th>6</th>\n",
              "      <td>536365</td>\n",
              "      <td>21730</td>\n",
              "      <td>GLASS STAR FROSTED T-LIGHT HOLDER</td>\n",
              "      <td>6</td>\n",
              "      <td>2010-12-01 08:26:00</td>\n",
              "      <td>4.25</td>\n",
              "      <td>17850.0</td>\n",
              "      <td>United Kingdom</td>\n",
              "      <td>Wednesday</td>\n",
              "      <td>2010</td>\n",
              "      <td>12</td>\n",
              "      <td>1</td>\n",
              "      <td>8</td>\n",
              "      <td>26</td>\n",
              "      <td>25.50</td>\n",
              "      <td>December</td>\n",
              "      <td>Morning</td>\n",
              "    </tr>\n",
              "    <tr>\n",
              "      <th>7</th>\n",
              "      <td>536366</td>\n",
              "      <td>22633</td>\n",
              "      <td>HAND WARMER UNION JACK</td>\n",
              "      <td>6</td>\n",
              "      <td>2010-12-01 08:28:00</td>\n",
              "      <td>1.85</td>\n",
              "      <td>17850.0</td>\n",
              "      <td>United Kingdom</td>\n",
              "      <td>Wednesday</td>\n",
              "      <td>2010</td>\n",
              "      <td>12</td>\n",
              "      <td>1</td>\n",
              "      <td>8</td>\n",
              "      <td>28</td>\n",
              "      <td>11.10</td>\n",
              "      <td>December</td>\n",
              "      <td>Morning</td>\n",
              "    </tr>\n",
              "    <tr>\n",
              "      <th>8</th>\n",
              "      <td>536366</td>\n",
              "      <td>22632</td>\n",
              "      <td>HAND WARMER RED POLKA DOT</td>\n",
              "      <td>6</td>\n",
              "      <td>2010-12-01 08:28:00</td>\n",
              "      <td>1.85</td>\n",
              "      <td>17850.0</td>\n",
              "      <td>United Kingdom</td>\n",
              "      <td>Wednesday</td>\n",
              "      <td>2010</td>\n",
              "      <td>12</td>\n",
              "      <td>1</td>\n",
              "      <td>8</td>\n",
              "      <td>28</td>\n",
              "      <td>11.10</td>\n",
              "      <td>December</td>\n",
              "      <td>Morning</td>\n",
              "    </tr>\n",
              "    <tr>\n",
              "      <th>9</th>\n",
              "      <td>536367</td>\n",
              "      <td>84879</td>\n",
              "      <td>ASSORTED COLOUR BIRD ORNAMENT</td>\n",
              "      <td>32</td>\n",
              "      <td>2010-12-01 08:34:00</td>\n",
              "      <td>1.69</td>\n",
              "      <td>13047.0</td>\n",
              "      <td>United Kingdom</td>\n",
              "      <td>Wednesday</td>\n",
              "      <td>2010</td>\n",
              "      <td>12</td>\n",
              "      <td>1</td>\n",
              "      <td>8</td>\n",
              "      <td>34</td>\n",
              "      <td>54.08</td>\n",
              "      <td>December</td>\n",
              "      <td>Morning</td>\n",
              "    </tr>\n",
              "    <tr>\n",
              "      <th>10</th>\n",
              "      <td>536367</td>\n",
              "      <td>22745</td>\n",
              "      <td>POPPY'S PLAYHOUSE BEDROOM</td>\n",
              "      <td>6</td>\n",
              "      <td>2010-12-01 08:34:00</td>\n",
              "      <td>2.10</td>\n",
              "      <td>13047.0</td>\n",
              "      <td>United Kingdom</td>\n",
              "      <td>Wednesday</td>\n",
              "      <td>2010</td>\n",
              "      <td>12</td>\n",
              "      <td>1</td>\n",
              "      <td>8</td>\n",
              "      <td>34</td>\n",
              "      <td>12.60</td>\n",
              "      <td>December</td>\n",
              "      <td>Morning</td>\n",
              "    </tr>\n",
              "    <tr>\n",
              "      <th>11</th>\n",
              "      <td>536367</td>\n",
              "      <td>22748</td>\n",
              "      <td>POPPY'S PLAYHOUSE KITCHEN</td>\n",
              "      <td>6</td>\n",
              "      <td>2010-12-01 08:34:00</td>\n",
              "      <td>2.10</td>\n",
              "      <td>13047.0</td>\n",
              "      <td>United Kingdom</td>\n",
              "      <td>Wednesday</td>\n",
              "      <td>2010</td>\n",
              "      <td>12</td>\n",
              "      <td>1</td>\n",
              "      <td>8</td>\n",
              "      <td>34</td>\n",
              "      <td>12.60</td>\n",
              "      <td>December</td>\n",
              "      <td>Morning</td>\n",
              "    </tr>\n",
              "    <tr>\n",
              "      <th>12</th>\n",
              "      <td>536367</td>\n",
              "      <td>22749</td>\n",
              "      <td>FELTCRAFT PRINCESS CHARLOTTE DOLL</td>\n",
              "      <td>8</td>\n",
              "      <td>2010-12-01 08:34:00</td>\n",
              "      <td>3.75</td>\n",
              "      <td>13047.0</td>\n",
              "      <td>United Kingdom</td>\n",
              "      <td>Wednesday</td>\n",
              "      <td>2010</td>\n",
              "      <td>12</td>\n",
              "      <td>1</td>\n",
              "      <td>8</td>\n",
              "      <td>34</td>\n",
              "      <td>30.00</td>\n",
              "      <td>December</td>\n",
              "      <td>Morning</td>\n",
              "    </tr>\n",
              "    <tr>\n",
              "      <th>13</th>\n",
              "      <td>536367</td>\n",
              "      <td>22310</td>\n",
              "      <td>IVORY KNITTED MUG COSY</td>\n",
              "      <td>6</td>\n",
              "      <td>2010-12-01 08:34:00</td>\n",
              "      <td>1.65</td>\n",
              "      <td>13047.0</td>\n",
              "      <td>United Kingdom</td>\n",
              "      <td>Wednesday</td>\n",
              "      <td>2010</td>\n",
              "      <td>12</td>\n",
              "      <td>1</td>\n",
              "      <td>8</td>\n",
              "      <td>34</td>\n",
              "      <td>9.90</td>\n",
              "      <td>December</td>\n",
              "      <td>Morning</td>\n",
              "    </tr>\n",
              "    <tr>\n",
              "      <th>14</th>\n",
              "      <td>536367</td>\n",
              "      <td>84969</td>\n",
              "      <td>BOX OF 6 ASSORTED COLOUR TEASPOONS</td>\n",
              "      <td>6</td>\n",
              "      <td>2010-12-01 08:34:00</td>\n",
              "      <td>4.25</td>\n",
              "      <td>13047.0</td>\n",
              "      <td>United Kingdom</td>\n",
              "      <td>Wednesday</td>\n",
              "      <td>2010</td>\n",
              "      <td>12</td>\n",
              "      <td>1</td>\n",
              "      <td>8</td>\n",
              "      <td>34</td>\n",
              "      <td>25.50</td>\n",
              "      <td>December</td>\n",
              "      <td>Morning</td>\n",
              "    </tr>\n",
              "    <tr>\n",
              "      <th>15</th>\n",
              "      <td>536367</td>\n",
              "      <td>22623</td>\n",
              "      <td>BOX OF VINTAGE JIGSAW BLOCKS</td>\n",
              "      <td>3</td>\n",
              "      <td>2010-12-01 08:34:00</td>\n",
              "      <td>4.95</td>\n",
              "      <td>13047.0</td>\n",
              "      <td>United Kingdom</td>\n",
              "      <td>Wednesday</td>\n",
              "      <td>2010</td>\n",
              "      <td>12</td>\n",
              "      <td>1</td>\n",
              "      <td>8</td>\n",
              "      <td>34</td>\n",
              "      <td>14.85</td>\n",
              "      <td>December</td>\n",
              "      <td>Morning</td>\n",
              "    </tr>\n",
              "    <tr>\n",
              "      <th>16</th>\n",
              "      <td>536367</td>\n",
              "      <td>22622</td>\n",
              "      <td>BOX OF VINTAGE ALPHABET BLOCKS</td>\n",
              "      <td>2</td>\n",
              "      <td>2010-12-01 08:34:00</td>\n",
              "      <td>9.95</td>\n",
              "      <td>13047.0</td>\n",
              "      <td>United Kingdom</td>\n",
              "      <td>Wednesday</td>\n",
              "      <td>2010</td>\n",
              "      <td>12</td>\n",
              "      <td>1</td>\n",
              "      <td>8</td>\n",
              "      <td>34</td>\n",
              "      <td>19.90</td>\n",
              "      <td>December</td>\n",
              "      <td>Morning</td>\n",
              "    </tr>\n",
              "    <tr>\n",
              "      <th>17</th>\n",
              "      <td>536367</td>\n",
              "      <td>21754</td>\n",
              "      <td>HOME BUILDING BLOCK WORD</td>\n",
              "      <td>3</td>\n",
              "      <td>2010-12-01 08:34:00</td>\n",
              "      <td>5.95</td>\n",
              "      <td>13047.0</td>\n",
              "      <td>United Kingdom</td>\n",
              "      <td>Wednesday</td>\n",
              "      <td>2010</td>\n",
              "      <td>12</td>\n",
              "      <td>1</td>\n",
              "      <td>8</td>\n",
              "      <td>34</td>\n",
              "      <td>17.85</td>\n",
              "      <td>December</td>\n",
              "      <td>Morning</td>\n",
              "    </tr>\n",
              "    <tr>\n",
              "      <th>18</th>\n",
              "      <td>536367</td>\n",
              "      <td>21755</td>\n",
              "      <td>LOVE BUILDING BLOCK WORD</td>\n",
              "      <td>3</td>\n",
              "      <td>2010-12-01 08:34:00</td>\n",
              "      <td>5.95</td>\n",
              "      <td>13047.0</td>\n",
              "      <td>United Kingdom</td>\n",
              "      <td>Wednesday</td>\n",
              "      <td>2010</td>\n",
              "      <td>12</td>\n",
              "      <td>1</td>\n",
              "      <td>8</td>\n",
              "      <td>34</td>\n",
              "      <td>17.85</td>\n",
              "      <td>December</td>\n",
              "      <td>Morning</td>\n",
              "    </tr>\n",
              "    <tr>\n",
              "      <th>19</th>\n",
              "      <td>536367</td>\n",
              "      <td>21777</td>\n",
              "      <td>RECIPE BOX WITH METAL HEART</td>\n",
              "      <td>4</td>\n",
              "      <td>2010-12-01 08:34:00</td>\n",
              "      <td>7.95</td>\n",
              "      <td>13047.0</td>\n",
              "      <td>United Kingdom</td>\n",
              "      <td>Wednesday</td>\n",
              "      <td>2010</td>\n",
              "      <td>12</td>\n",
              "      <td>1</td>\n",
              "      <td>8</td>\n",
              "      <td>34</td>\n",
              "      <td>31.80</td>\n",
              "      <td>December</td>\n",
              "      <td>Morning</td>\n",
              "    </tr>\n",
              "    <tr>\n",
              "      <th>20</th>\n",
              "      <td>536367</td>\n",
              "      <td>48187</td>\n",
              "      <td>DOORMAT NEW ENGLAND</td>\n",
              "      <td>4</td>\n",
              "      <td>2010-12-01 08:34:00</td>\n",
              "      <td>7.95</td>\n",
              "      <td>13047.0</td>\n",
              "      <td>United Kingdom</td>\n",
              "      <td>Wednesday</td>\n",
              "      <td>2010</td>\n",
              "      <td>12</td>\n",
              "      <td>1</td>\n",
              "      <td>8</td>\n",
              "      <td>34</td>\n",
              "      <td>31.80</td>\n",
              "      <td>December</td>\n",
              "      <td>Morning</td>\n",
              "    </tr>\n",
              "    <tr>\n",
              "      <th>21</th>\n",
              "      <td>536368</td>\n",
              "      <td>22960</td>\n",
              "      <td>JAM MAKING SET WITH JARS</td>\n",
              "      <td>6</td>\n",
              "      <td>2010-12-01 08:34:00</td>\n",
              "      <td>4.25</td>\n",
              "      <td>13047.0</td>\n",
              "      <td>United Kingdom</td>\n",
              "      <td>Wednesday</td>\n",
              "      <td>2010</td>\n",
              "      <td>12</td>\n",
              "      <td>1</td>\n",
              "      <td>8</td>\n",
              "      <td>34</td>\n",
              "      <td>25.50</td>\n",
              "      <td>December</td>\n",
              "      <td>Morning</td>\n",
              "    </tr>\n",
              "    <tr>\n",
              "      <th>22</th>\n",
              "      <td>536368</td>\n",
              "      <td>22913</td>\n",
              "      <td>RED COAT RACK PARIS FASHION</td>\n",
              "      <td>3</td>\n",
              "      <td>2010-12-01 08:34:00</td>\n",
              "      <td>4.95</td>\n",
              "      <td>13047.0</td>\n",
              "      <td>United Kingdom</td>\n",
              "      <td>Wednesday</td>\n",
              "      <td>2010</td>\n",
              "      <td>12</td>\n",
              "      <td>1</td>\n",
              "      <td>8</td>\n",
              "      <td>34</td>\n",
              "      <td>14.85</td>\n",
              "      <td>December</td>\n",
              "      <td>Morning</td>\n",
              "    </tr>\n",
              "    <tr>\n",
              "      <th>23</th>\n",
              "      <td>536368</td>\n",
              "      <td>22912</td>\n",
              "      <td>YELLOW COAT RACK PARIS FASHION</td>\n",
              "      <td>3</td>\n",
              "      <td>2010-12-01 08:34:00</td>\n",
              "      <td>4.95</td>\n",
              "      <td>13047.0</td>\n",
              "      <td>United Kingdom</td>\n",
              "      <td>Wednesday</td>\n",
              "      <td>2010</td>\n",
              "      <td>12</td>\n",
              "      <td>1</td>\n",
              "      <td>8</td>\n",
              "      <td>34</td>\n",
              "      <td>14.85</td>\n",
              "      <td>December</td>\n",
              "      <td>Morning</td>\n",
              "    </tr>\n",
              "    <tr>\n",
              "      <th>24</th>\n",
              "      <td>536368</td>\n",
              "      <td>22914</td>\n",
              "      <td>BLUE COAT RACK PARIS FASHION</td>\n",
              "      <td>3</td>\n",
              "      <td>2010-12-01 08:34:00</td>\n",
              "      <td>4.95</td>\n",
              "      <td>13047.0</td>\n",
              "      <td>United Kingdom</td>\n",
              "      <td>Wednesday</td>\n",
              "      <td>2010</td>\n",
              "      <td>12</td>\n",
              "      <td>1</td>\n",
              "      <td>8</td>\n",
              "      <td>34</td>\n",
              "      <td>14.85</td>\n",
              "      <td>December</td>\n",
              "      <td>Morning</td>\n",
              "    </tr>\n",
              "    <tr>\n",
              "      <th>25</th>\n",
              "      <td>536369</td>\n",
              "      <td>21756</td>\n",
              "      <td>BATH BUILDING BLOCK WORD</td>\n",
              "      <td>3</td>\n",
              "      <td>2010-12-01 08:35:00</td>\n",
              "      <td>5.95</td>\n",
              "      <td>13047.0</td>\n",
              "      <td>United Kingdom</td>\n",
              "      <td>Wednesday</td>\n",
              "      <td>2010</td>\n",
              "      <td>12</td>\n",
              "      <td>1</td>\n",
              "      <td>8</td>\n",
              "      <td>35</td>\n",
              "      <td>17.85</td>\n",
              "      <td>December</td>\n",
              "      <td>Morning</td>\n",
              "    </tr>\n",
              "    <tr>\n",
              "      <th>26</th>\n",
              "      <td>536370</td>\n",
              "      <td>22728</td>\n",
              "      <td>ALARM CLOCK BAKELIKE PINK</td>\n",
              "      <td>24</td>\n",
              "      <td>2010-12-01 08:45:00</td>\n",
              "      <td>3.75</td>\n",
              "      <td>12583.0</td>\n",
              "      <td>France</td>\n",
              "      <td>Wednesday</td>\n",
              "      <td>2010</td>\n",
              "      <td>12</td>\n",
              "      <td>1</td>\n",
              "      <td>8</td>\n",
              "      <td>45</td>\n",
              "      <td>90.00</td>\n",
              "      <td>December</td>\n",
              "      <td>Morning</td>\n",
              "    </tr>\n",
              "    <tr>\n",
              "      <th>27</th>\n",
              "      <td>536370</td>\n",
              "      <td>22727</td>\n",
              "      <td>ALARM CLOCK BAKELIKE RED</td>\n",
              "      <td>24</td>\n",
              "      <td>2010-12-01 08:45:00</td>\n",
              "      <td>3.75</td>\n",
              "      <td>12583.0</td>\n",
              "      <td>France</td>\n",
              "      <td>Wednesday</td>\n",
              "      <td>2010</td>\n",
              "      <td>12</td>\n",
              "      <td>1</td>\n",
              "      <td>8</td>\n",
              "      <td>45</td>\n",
              "      <td>90.00</td>\n",
              "      <td>December</td>\n",
              "      <td>Morning</td>\n",
              "    </tr>\n",
              "    <tr>\n",
              "      <th>28</th>\n",
              "      <td>536370</td>\n",
              "      <td>22726</td>\n",
              "      <td>ALARM CLOCK BAKELIKE GREEN</td>\n",
              "      <td>12</td>\n",
              "      <td>2010-12-01 08:45:00</td>\n",
              "      <td>3.75</td>\n",
              "      <td>12583.0</td>\n",
              "      <td>France</td>\n",
              "      <td>Wednesday</td>\n",
              "      <td>2010</td>\n",
              "      <td>12</td>\n",
              "      <td>1</td>\n",
              "      <td>8</td>\n",
              "      <td>45</td>\n",
              "      <td>45.00</td>\n",
              "      <td>December</td>\n",
              "      <td>Morning</td>\n",
              "    </tr>\n",
              "    <tr>\n",
              "      <th>29</th>\n",
              "      <td>536370</td>\n",
              "      <td>21724</td>\n",
              "      <td>PANDA AND BUNNIES STICKER SHEET</td>\n",
              "      <td>12</td>\n",
              "      <td>2010-12-01 08:45:00</td>\n",
              "      <td>0.85</td>\n",
              "      <td>12583.0</td>\n",
              "      <td>France</td>\n",
              "      <td>Wednesday</td>\n",
              "      <td>2010</td>\n",
              "      <td>12</td>\n",
              "      <td>1</td>\n",
              "      <td>8</td>\n",
              "      <td>45</td>\n",
              "      <td>10.20</td>\n",
              "      <td>December</td>\n",
              "      <td>Morning</td>\n",
              "    </tr>\n",
              "  </tbody>\n",
              "</table>\n",
              "</div>"
            ],
            "text/plain": [
              "   InvoiceNo StockCode  ...     Month  Time_type\n",
              "0     536365    85123A  ...  December    Morning\n",
              "1     536365     71053  ...  December    Morning\n",
              "2     536365    84406B  ...  December    Morning\n",
              "3     536365    84029G  ...  December    Morning\n",
              "4     536365    84029E  ...  December    Morning\n",
              "5     536365     22752  ...  December    Morning\n",
              "6     536365     21730  ...  December    Morning\n",
              "7     536366     22633  ...  December    Morning\n",
              "8     536366     22632  ...  December    Morning\n",
              "9     536367     84879  ...  December    Morning\n",
              "10    536367     22745  ...  December    Morning\n",
              "11    536367     22748  ...  December    Morning\n",
              "12    536367     22749  ...  December    Morning\n",
              "13    536367     22310  ...  December    Morning\n",
              "14    536367     84969  ...  December    Morning\n",
              "15    536367     22623  ...  December    Morning\n",
              "16    536367     22622  ...  December    Morning\n",
              "17    536367     21754  ...  December    Morning\n",
              "18    536367     21755  ...  December    Morning\n",
              "19    536367     21777  ...  December    Morning\n",
              "20    536367     48187  ...  December    Morning\n",
              "21    536368     22960  ...  December    Morning\n",
              "22    536368     22913  ...  December    Morning\n",
              "23    536368     22912  ...  December    Morning\n",
              "24    536368     22914  ...  December    Morning\n",
              "25    536369     21756  ...  December    Morning\n",
              "26    536370     22728  ...  December    Morning\n",
              "27    536370     22727  ...  December    Morning\n",
              "28    536370     22726  ...  December    Morning\n",
              "29    536370     21724  ...  December    Morning\n",
              "\n",
              "[30 rows x 17 columns]"
            ]
          },
          "metadata": {
            "tags": []
          },
          "execution_count": 219
        }
      ]
    }
  ]
}